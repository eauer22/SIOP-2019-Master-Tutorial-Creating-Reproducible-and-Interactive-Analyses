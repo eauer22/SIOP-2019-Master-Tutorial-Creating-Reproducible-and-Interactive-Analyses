{
 "cells": [
  {
   "cell_type": "markdown",
   "metadata": {},
   "source": [
    "# Full Workflow: From R script to Jupyter Notebook & Binder\n"
   ]
  },
  {
   "cell_type": "markdown",
   "metadata": {},
   "source": [
    "In this example, we'll be converting an existing R script from past analyses to a Jupyter Notebook. The original script (Demo_pt2.r) shows a sample project workflow, starting with scores on big five personality items, creating composite scores, assessing psychometric properties, and also examining the relationship between conscientiousness, age, and gender. We'll also be building a Binder, making our analyses interactive and reproducible. This example will display from start to finish, how to convert existing analyses into an interactive, literate code document. \n",
    "\n",
    "Here is the general process:\n",
    "1. Launch JupyterLab from Anaconda\n",
    "2. Add in code & text to your Jupyter Notebook\n",
    "3. Save and upload/push .ipynb file to GitHub\n",
    "4. Add Configuration Files\n",
    "5. Build Binder\n",
    "6. Add Binder Button to GitHub README\n",
    "7. Launch & explore Binder\n"
   ]
  },
  {
   "cell_type": "markdown",
   "metadata": {},
   "source": [
    "Load R packages"
   ]
  },
  {
   "cell_type": "code",
   "execution_count": 3,
   "metadata": {},
   "outputs": [],
   "source": [
    "library(ggplot2)\n",
    "library(psych)\n",
    "library(dplyr)"
   ]
  },
  {
   "cell_type": "markdown",
   "metadata": {},
   "source": [
    "These analyses use the BFI dataset from the R psych package (https://www.personality-project.org/r/html/bfi.html). This dataset includes 2800 responses to 25 personality self-report items from the International Personality Item Pool (ipip.ori.org). Participant gender (1=male, 2=female), education (1 = HS, 2 = finished HS, 3 = some college, 4 = college graduate 5 = graduate degree), and age (in years) are also included. "
   ]
  },
  {
   "cell_type": "code",
   "execution_count": 6,
   "metadata": {},
   "outputs": [
    {
     "data": {
      "text/html": [
       "<table>\n",
       "<thead><tr><th></th><th scope=col>A1</th><th scope=col>A2</th><th scope=col>A3</th><th scope=col>A4</th><th scope=col>A5</th><th scope=col>C1</th><th scope=col>C2</th><th scope=col>C3</th><th scope=col>C4</th><th scope=col>C5</th><th scope=col>...</th><th scope=col>N4</th><th scope=col>N5</th><th scope=col>O1</th><th scope=col>O2</th><th scope=col>O3</th><th scope=col>O4</th><th scope=col>O5</th><th scope=col>gender</th><th scope=col>education</th><th scope=col>age</th></tr></thead>\n",
       "<tbody>\n",
       "\t<tr><th scope=row>61617</th><td>2  </td><td>4  </td><td>3  </td><td>4  </td><td>4  </td><td>2  </td><td>3  </td><td>3  </td><td>4  </td><td>4  </td><td>...</td><td>2  </td><td>3  </td><td>3  </td><td>6  </td><td>3  </td><td>4  </td><td>3  </td><td>1  </td><td>NA </td><td>16 </td></tr>\n",
       "\t<tr><th scope=row>61618</th><td>2  </td><td>4  </td><td>5  </td><td>2  </td><td>5  </td><td>5  </td><td>4  </td><td>4  </td><td>3  </td><td>4  </td><td>...</td><td>5  </td><td>5  </td><td>4  </td><td>2  </td><td>4  </td><td>3  </td><td>3  </td><td>2  </td><td>NA </td><td>18 </td></tr>\n",
       "\t<tr><th scope=row>61620</th><td>5  </td><td>4  </td><td>5  </td><td>4  </td><td>4  </td><td>4  </td><td>5  </td><td>4  </td><td>2  </td><td>5  </td><td>...</td><td>2  </td><td>3  </td><td>4  </td><td>2  </td><td>5  </td><td>5  </td><td>2  </td><td>2  </td><td>NA </td><td>17 </td></tr>\n",
       "\t<tr><th scope=row>61621</th><td>4  </td><td>4  </td><td>6  </td><td>5  </td><td>5  </td><td>4  </td><td>4  </td><td>3  </td><td>5  </td><td>5  </td><td>...</td><td>4  </td><td>1  </td><td>3  </td><td>3  </td><td>4  </td><td>3  </td><td>5  </td><td>2  </td><td>NA </td><td>17 </td></tr>\n",
       "\t<tr><th scope=row>61622</th><td>2  </td><td>3  </td><td>3  </td><td>4  </td><td>5  </td><td>4  </td><td>4  </td><td>5  </td><td>3  </td><td>2  </td><td>...</td><td>4  </td><td>3  </td><td>3  </td><td>3  </td><td>4  </td><td>3  </td><td>3  </td><td>1  </td><td>NA </td><td>17 </td></tr>\n",
       "\t<tr><th scope=row>61623</th><td>6  </td><td>6  </td><td>5  </td><td>6  </td><td>5  </td><td>6  </td><td>6  </td><td>6  </td><td>1  </td><td>3  </td><td>...</td><td>2  </td><td>3  </td><td>4  </td><td>3  </td><td>5  </td><td>6  </td><td>1  </td><td>2  </td><td> 3 </td><td>21 </td></tr>\n",
       "</tbody>\n",
       "</table>\n"
      ],
      "text/latex": [
       "\\begin{tabular}{r|llllllllllllllllllllllllllll}\n",
       "  & A1 & A2 & A3 & A4 & A5 & C1 & C2 & C3 & C4 & C5 & ... & N4 & N5 & O1 & O2 & O3 & O4 & O5 & gender & education & age\\\\\n",
       "\\hline\n",
       "\t61617 & 2   & 4   & 3   & 4   & 4   & 2   & 3   & 3   & 4   & 4   & ... & 2   & 3   & 3   & 6   & 3   & 4   & 3   & 1   & NA  & 16 \\\\\n",
       "\t61618 & 2   & 4   & 5   & 2   & 5   & 5   & 4   & 4   & 3   & 4   & ... & 5   & 5   & 4   & 2   & 4   & 3   & 3   & 2   & NA  & 18 \\\\\n",
       "\t61620 & 5   & 4   & 5   & 4   & 4   & 4   & 5   & 4   & 2   & 5   & ... & 2   & 3   & 4   & 2   & 5   & 5   & 2   & 2   & NA  & 17 \\\\\n",
       "\t61621 & 4   & 4   & 6   & 5   & 5   & 4   & 4   & 3   & 5   & 5   & ... & 4   & 1   & 3   & 3   & 4   & 3   & 5   & 2   & NA  & 17 \\\\\n",
       "\t61622 & 2   & 3   & 3   & 4   & 5   & 4   & 4   & 5   & 3   & 2   & ... & 4   & 3   & 3   & 3   & 4   & 3   & 3   & 1   & NA  & 17 \\\\\n",
       "\t61623 & 6   & 6   & 5   & 6   & 5   & 6   & 6   & 6   & 1   & 3   & ... & 2   & 3   & 4   & 3   & 5   & 6   & 1   & 2   &  3  & 21 \\\\\n",
       "\\end{tabular}\n"
      ],
      "text/markdown": [
       "\n",
       "| <!--/--> | A1 | A2 | A3 | A4 | A5 | C1 | C2 | C3 | C4 | C5 | ... | N4 | N5 | O1 | O2 | O3 | O4 | O5 | gender | education | age |\n",
       "|---|---|---|---|---|---|---|---|---|---|---|---|---|---|---|---|---|---|---|---|---|---|\n",
       "| 61617 | 2   | 4   | 3   | 4   | 4   | 2   | 3   | 3   | 4   | 4   | ... | 2   | 3   | 3   | 6   | 3   | 4   | 3   | 1   | NA  | 16  |\n",
       "| 61618 | 2   | 4   | 5   | 2   | 5   | 5   | 4   | 4   | 3   | 4   | ... | 5   | 5   | 4   | 2   | 4   | 3   | 3   | 2   | NA  | 18  |\n",
       "| 61620 | 5   | 4   | 5   | 4   | 4   | 4   | 5   | 4   | 2   | 5   | ... | 2   | 3   | 4   | 2   | 5   | 5   | 2   | 2   | NA  | 17  |\n",
       "| 61621 | 4   | 4   | 6   | 5   | 5   | 4   | 4   | 3   | 5   | 5   | ... | 4   | 1   | 3   | 3   | 4   | 3   | 5   | 2   | NA  | 17  |\n",
       "| 61622 | 2   | 3   | 3   | 4   | 5   | 4   | 4   | 5   | 3   | 2   | ... | 4   | 3   | 3   | 3   | 4   | 3   | 3   | 1   | NA  | 17  |\n",
       "| 61623 | 6   | 6   | 5   | 6   | 5   | 6   | 6   | 6   | 1   | 3   | ... | 2   | 3   | 4   | 3   | 5   | 6   | 1   | 2   |  3  | 21  |\n",
       "\n"
      ],
      "text/plain": [
       "      A1 A2 A3 A4 A5 C1 C2 C3 C4 C5 ... N4 N5 O1 O2 O3 O4 O5 gender education\n",
       "61617 2  4  3  4  4  2  3  3  4  4  ... 2  3  3  6  3  4  3  1      NA       \n",
       "61618 2  4  5  2  5  5  4  4  3  4  ... 5  5  4  2  4  3  3  2      NA       \n",
       "61620 5  4  5  4  4  4  5  4  2  5  ... 2  3  4  2  5  5  2  2      NA       \n",
       "61621 4  4  6  5  5  4  4  3  5  5  ... 4  1  3  3  4  3  5  2      NA       \n",
       "61622 2  3  3  4  5  4  4  5  3  2  ... 4  3  3  3  4  3  3  1      NA       \n",
       "61623 6  6  5  6  5  6  6  6  1  3  ... 2  3  4  3  5  6  1  2       3       \n",
       "      age\n",
       "61617 16 \n",
       "61618 18 \n",
       "61620 17 \n",
       "61621 17 \n",
       "61622 17 \n",
       "61623 21 "
      ]
     },
     "metadata": {},
     "output_type": "display_data"
    }
   ],
   "source": [
    "bfi_data<-bfi #load bfi dataset\n",
    "head(bfi_data) #view first few cases of dataset"
   ]
  },
  {
   "cell_type": "code",
   "execution_count": 7,
   "metadata": {},
   "outputs": [
    {
     "data": {
      "text/html": [
       "<table>\n",
       "<thead><tr><th></th><th scope=col>vars</th><th scope=col>n</th><th scope=col>mean</th><th scope=col>sd</th><th scope=col>median</th><th scope=col>trimmed</th><th scope=col>mad</th><th scope=col>min</th><th scope=col>max</th><th scope=col>range</th><th scope=col>skew</th><th scope=col>kurtosis</th><th scope=col>se</th></tr></thead>\n",
       "<tbody>\n",
       "\t<tr><th scope=row>A1</th><td> 1         </td><td>2784       </td><td> 2.413434  </td><td> 1.4077372 </td><td> 2         </td><td> 2.230251  </td><td> 1.4826    </td><td>1          </td><td> 6         </td><td> 5         </td><td> 0.82504356</td><td>-0.30763947</td><td>0.026680069</td></tr>\n",
       "\t<tr><th scope=row>A2</th><td> 2         </td><td>2773       </td><td> 4.802380  </td><td> 1.1720199 </td><td> 5         </td><td> 4.977017  </td><td> 1.4826    </td><td>1          </td><td> 6         </td><td> 5         </td><td>-1.12428533</td><td> 1.05483862</td><td>0.022256663</td></tr>\n",
       "\t<tr><th scope=row>A3</th><td> 3         </td><td>2774       </td><td> 4.603821  </td><td> 1.3018336 </td><td> 5         </td><td> 4.788288  </td><td> 1.4826    </td><td>1          </td><td> 6         </td><td> 5         </td><td>-0.99845684</td><td> 0.44204096</td><td>0.024717370</td></tr>\n",
       "\t<tr><th scope=row>A4</th><td> 4         </td><td>2781       </td><td> 4.699748  </td><td> 1.4796327 </td><td> 5         </td><td> 4.932584  </td><td> 1.4826    </td><td>1          </td><td> 6         </td><td> 5         </td><td>-1.03094275</td><td> 0.04045252</td><td>0.028057788</td></tr>\n",
       "\t<tr><th scope=row>A5</th><td> 5         </td><td>2784       </td><td> 4.560345  </td><td> 1.2585121 </td><td> 5         </td><td> 4.711849  </td><td> 1.4826    </td><td>1          </td><td> 6         </td><td> 5         </td><td>-0.84723335</td><td> 0.15890562</td><td>0.023851889</td></tr>\n",
       "\t<tr><th scope=row>C1</th><td> 6         </td><td>2779       </td><td> 4.502339  </td><td> 1.2413465 </td><td> 5         </td><td> 4.640899  </td><td> 1.4826    </td><td>1          </td><td> 6         </td><td> 5         </td><td>-0.85470158</td><td> 0.30442934</td><td>0.023547715</td></tr>\n",
       "\t<tr><th scope=row>C2</th><td> 7         </td><td>2776       </td><td> 4.369957  </td><td> 1.3183465 </td><td> 5         </td><td> 4.502250  </td><td> 1.4826    </td><td>1          </td><td> 6         </td><td> 5         </td><td>-0.74181968</td><td>-0.13643987</td><td>0.025021875</td></tr>\n",
       "\t<tr><th scope=row>C3</th><td> 8         </td><td>2780       </td><td> 4.303957  </td><td> 1.2885518 </td><td> 5         </td><td> 4.417716  </td><td> 1.4826    </td><td>1          </td><td> 6         </td><td> 5         </td><td>-0.69145540</td><td>-0.13233095</td><td>0.024438778</td></tr>\n",
       "\t<tr><th scope=row>C4</th><td> 9         </td><td>2774       </td><td> 2.553353  </td><td> 1.3751181 </td><td> 2         </td><td> 2.413514  </td><td> 1.4826    </td><td>1          </td><td> 6         </td><td> 5         </td><td> 0.59617294</td><td>-0.62141881</td><td>0.026108792</td></tr>\n",
       "\t<tr><th scope=row>C5</th><td>10         </td><td>2784       </td><td> 3.296695  </td><td> 1.6285419 </td><td> 3         </td><td> 3.245961  </td><td> 1.4826    </td><td>1          </td><td> 6         </td><td> 5         </td><td> 0.06616716</td><td>-1.21666936</td><td>0.030864860</td></tr>\n",
       "\t<tr><th scope=row>E1</th><td>11         </td><td>2777       </td><td> 2.974433  </td><td> 1.6315055 </td><td> 3         </td><td> 2.859649  </td><td> 1.4826    </td><td>1          </td><td> 6         </td><td> 5         </td><td> 0.37345508</td><td>-1.09233560</td><td>0.030959974</td></tr>\n",
       "\t<tr><th scope=row>E2</th><td>12         </td><td>2784       </td><td> 3.141882  </td><td> 1.6052103 </td><td> 3         </td><td> 3.063285  </td><td> 1.4826    </td><td>1          </td><td> 6         </td><td> 5         </td><td> 0.22082058</td><td>-1.14863822</td><td>0.030422670</td></tr>\n",
       "\t<tr><th scope=row>E3</th><td>13         </td><td>2775       </td><td> 4.000721  </td><td> 1.3527188 </td><td> 4         </td><td> 4.067987  </td><td> 1.4826    </td><td>1          </td><td> 6         </td><td> 5         </td><td>-0.47037917</td><td>-0.46511252</td><td>0.025678877</td></tr>\n",
       "\t<tr><th scope=row>E4</th><td>14         </td><td>2791       </td><td> 4.422429  </td><td> 1.4575174 </td><td> 5         </td><td> 4.590685  </td><td> 1.4826    </td><td>1          </td><td> 6         </td><td> 5         </td><td>-0.82374021</td><td>-0.30422493</td><td>0.027588865</td></tr>\n",
       "\t<tr><th scope=row>E5</th><td>15         </td><td>2779       </td><td> 4.416337  </td><td> 1.3347677 </td><td> 5         </td><td> 4.562697  </td><td> 1.4826    </td><td>1          </td><td> 6         </td><td> 5         </td><td>-0.77706636</td><td>-0.09369184</td><td>0.025319867</td></tr>\n",
       "\t<tr><th scope=row>N1</th><td>16         </td><td>2778       </td><td> 2.929086  </td><td> 1.5709175 </td><td> 3         </td><td> 2.824191  </td><td> 1.4826    </td><td>1          </td><td> 6         </td><td> 5         </td><td> 0.37122930</td><td>-1.01285920</td><td>0.029804871</td></tr>\n",
       "\t<tr><th scope=row>N2</th><td>17         </td><td>2779       </td><td> 3.507737  </td><td> 1.5259436 </td><td> 4         </td><td> 3.509663  </td><td> 1.4826    </td><td>1          </td><td> 6         </td><td> 5         </td><td>-0.07694366</td><td>-1.05105088</td><td>0.028946376</td></tr>\n",
       "\t<tr><th scope=row>N3</th><td>18         </td><td>2789       </td><td> 3.216565  </td><td> 1.6029021 </td><td> 3         </td><td> 3.155396  </td><td> 1.4826    </td><td>1          </td><td> 6         </td><td> 5         </td><td> 0.15059864</td><td>-1.17860226</td><td>0.030351680</td></tr>\n",
       "\t<tr><th scope=row>N4</th><td>19         </td><td>2764       </td><td> 3.185601  </td><td> 1.5696851 </td><td> 3         </td><td> 3.119801  </td><td> 1.4826    </td><td>1          </td><td> 6         </td><td> 5         </td><td> 0.19688969</td><td>-1.09235018</td><td>0.029856818</td></tr>\n",
       "\t<tr><th scope=row>N5</th><td>20         </td><td>2771       </td><td> 2.969686  </td><td> 1.6186474 </td><td> 3         </td><td> 2.853406  </td><td> 1.4826    </td><td>1          </td><td> 6         </td><td> 5         </td><td> 0.37425725</td><td>-1.06128795</td><td>0.030749212</td></tr>\n",
       "\t<tr><th scope=row>O1</th><td>21         </td><td>2778       </td><td> 4.816055  </td><td> 1.1295303 </td><td> 5         </td><td> 4.960881  </td><td> 1.4826    </td><td>1          </td><td> 6         </td><td> 5         </td><td>-0.89688239</td><td> 0.42523597</td><td>0.021430473</td></tr>\n",
       "\t<tr><th scope=row>O2</th><td>22         </td><td>2800       </td><td> 2.713214  </td><td> 1.5651518 </td><td> 2         </td><td> 2.561607  </td><td> 1.4826    </td><td>1          </td><td> 6         </td><td> 5         </td><td> 0.58536528</td><td>-0.81267459</td><td>0.029578589</td></tr>\n",
       "\t<tr><th scope=row>O3</th><td>23         </td><td>2772       </td><td> 4.438312  </td><td> 1.2209011 </td><td> 5         </td><td> 4.556808  </td><td> 1.4826    </td><td>1          </td><td> 6         </td><td> 5         </td><td>-0.77263334</td><td> 0.30198047</td><td>0.023189099</td></tr>\n",
       "\t<tr><th scope=row>O4</th><td>24         </td><td>2786       </td><td> 4.892319  </td><td> 1.2212504 </td><td> 5         </td><td> 5.095516  </td><td> 1.4826    </td><td>1          </td><td> 6         </td><td> 5         </td><td>-1.21759120</td><td> 1.07975589</td><td>0.023137380</td></tr>\n",
       "\t<tr><th scope=row>O5</th><td>25         </td><td>2780       </td><td> 2.489568  </td><td> 1.3279590 </td><td> 2         </td><td> 2.338129  </td><td> 1.4826    </td><td>1          </td><td> 6         </td><td> 5         </td><td> 0.73808342</td><td>-0.23897800</td><td>0.025186178</td></tr>\n",
       "\t<tr><th scope=row>gender</th><td>26         </td><td>2800       </td><td> 1.671786  </td><td> 0.4696471 </td><td> 2         </td><td> 1.714732  </td><td> 0.0000    </td><td>1          </td><td> 2         </td><td> 1         </td><td>-0.73129098</td><td>-1.46573659</td><td>0.008875497</td></tr>\n",
       "\t<tr><th scope=row>education</th><td>27         </td><td>2577       </td><td> 3.190144  </td><td> 1.1077139 </td><td> 3         </td><td> 3.221522  </td><td> 1.4826    </td><td>1          </td><td> 5         </td><td> 4         </td><td>-0.04760679</td><td>-0.32063136</td><td>0.021820787</td></tr>\n",
       "\t<tr><th scope=row>age</th><td>28         </td><td>2800       </td><td>28.782143  </td><td>11.1275548 </td><td>26         </td><td>27.428571  </td><td>10.3782    </td><td>3          </td><td>86         </td><td>83         </td><td> 1.02363773</td><td> 0.56495525</td><td>0.210291018</td></tr>\n",
       "</tbody>\n",
       "</table>\n"
      ],
      "text/latex": [
       "\\begin{tabular}{r|lllllllllllll}\n",
       "  & vars & n & mean & sd & median & trimmed & mad & min & max & range & skew & kurtosis & se\\\\\n",
       "\\hline\n",
       "\tA1 &  1          & 2784        &  2.413434   &  1.4077372  &  2          &  2.230251   &  1.4826     & 1           &  6          &  5          &  0.82504356 & -0.30763947 & 0.026680069\\\\\n",
       "\tA2 &  2          & 2773        &  4.802380   &  1.1720199  &  5          &  4.977017   &  1.4826     & 1           &  6          &  5          & -1.12428533 &  1.05483862 & 0.022256663\\\\\n",
       "\tA3 &  3          & 2774        &  4.603821   &  1.3018336  &  5          &  4.788288   &  1.4826     & 1           &  6          &  5          & -0.99845684 &  0.44204096 & 0.024717370\\\\\n",
       "\tA4 &  4          & 2781        &  4.699748   &  1.4796327  &  5          &  4.932584   &  1.4826     & 1           &  6          &  5          & -1.03094275 &  0.04045252 & 0.028057788\\\\\n",
       "\tA5 &  5          & 2784        &  4.560345   &  1.2585121  &  5          &  4.711849   &  1.4826     & 1           &  6          &  5          & -0.84723335 &  0.15890562 & 0.023851889\\\\\n",
       "\tC1 &  6          & 2779        &  4.502339   &  1.2413465  &  5          &  4.640899   &  1.4826     & 1           &  6          &  5          & -0.85470158 &  0.30442934 & 0.023547715\\\\\n",
       "\tC2 &  7          & 2776        &  4.369957   &  1.3183465  &  5          &  4.502250   &  1.4826     & 1           &  6          &  5          & -0.74181968 & -0.13643987 & 0.025021875\\\\\n",
       "\tC3 &  8          & 2780        &  4.303957   &  1.2885518  &  5          &  4.417716   &  1.4826     & 1           &  6          &  5          & -0.69145540 & -0.13233095 & 0.024438778\\\\\n",
       "\tC4 &  9          & 2774        &  2.553353   &  1.3751181  &  2          &  2.413514   &  1.4826     & 1           &  6          &  5          &  0.59617294 & -0.62141881 & 0.026108792\\\\\n",
       "\tC5 & 10          & 2784        &  3.296695   &  1.6285419  &  3          &  3.245961   &  1.4826     & 1           &  6          &  5          &  0.06616716 & -1.21666936 & 0.030864860\\\\\n",
       "\tE1 & 11          & 2777        &  2.974433   &  1.6315055  &  3          &  2.859649   &  1.4826     & 1           &  6          &  5          &  0.37345508 & -1.09233560 & 0.030959974\\\\\n",
       "\tE2 & 12          & 2784        &  3.141882   &  1.6052103  &  3          &  3.063285   &  1.4826     & 1           &  6          &  5          &  0.22082058 & -1.14863822 & 0.030422670\\\\\n",
       "\tE3 & 13          & 2775        &  4.000721   &  1.3527188  &  4          &  4.067987   &  1.4826     & 1           &  6          &  5          & -0.47037917 & -0.46511252 & 0.025678877\\\\\n",
       "\tE4 & 14          & 2791        &  4.422429   &  1.4575174  &  5          &  4.590685   &  1.4826     & 1           &  6          &  5          & -0.82374021 & -0.30422493 & 0.027588865\\\\\n",
       "\tE5 & 15          & 2779        &  4.416337   &  1.3347677  &  5          &  4.562697   &  1.4826     & 1           &  6          &  5          & -0.77706636 & -0.09369184 & 0.025319867\\\\\n",
       "\tN1 & 16          & 2778        &  2.929086   &  1.5709175  &  3          &  2.824191   &  1.4826     & 1           &  6          &  5          &  0.37122930 & -1.01285920 & 0.029804871\\\\\n",
       "\tN2 & 17          & 2779        &  3.507737   &  1.5259436  &  4          &  3.509663   &  1.4826     & 1           &  6          &  5          & -0.07694366 & -1.05105088 & 0.028946376\\\\\n",
       "\tN3 & 18          & 2789        &  3.216565   &  1.6029021  &  3          &  3.155396   &  1.4826     & 1           &  6          &  5          &  0.15059864 & -1.17860226 & 0.030351680\\\\\n",
       "\tN4 & 19          & 2764        &  3.185601   &  1.5696851  &  3          &  3.119801   &  1.4826     & 1           &  6          &  5          &  0.19688969 & -1.09235018 & 0.029856818\\\\\n",
       "\tN5 & 20          & 2771        &  2.969686   &  1.6186474  &  3          &  2.853406   &  1.4826     & 1           &  6          &  5          &  0.37425725 & -1.06128795 & 0.030749212\\\\\n",
       "\tO1 & 21          & 2778        &  4.816055   &  1.1295303  &  5          &  4.960881   &  1.4826     & 1           &  6          &  5          & -0.89688239 &  0.42523597 & 0.021430473\\\\\n",
       "\tO2 & 22          & 2800        &  2.713214   &  1.5651518  &  2          &  2.561607   &  1.4826     & 1           &  6          &  5          &  0.58536528 & -0.81267459 & 0.029578589\\\\\n",
       "\tO3 & 23          & 2772        &  4.438312   &  1.2209011  &  5          &  4.556808   &  1.4826     & 1           &  6          &  5          & -0.77263334 &  0.30198047 & 0.023189099\\\\\n",
       "\tO4 & 24          & 2786        &  4.892319   &  1.2212504  &  5          &  5.095516   &  1.4826     & 1           &  6          &  5          & -1.21759120 &  1.07975589 & 0.023137380\\\\\n",
       "\tO5 & 25          & 2780        &  2.489568   &  1.3279590  &  2          &  2.338129   &  1.4826     & 1           &  6          &  5          &  0.73808342 & -0.23897800 & 0.025186178\\\\\n",
       "\tgender & 26          & 2800        &  1.671786   &  0.4696471  &  2          &  1.714732   &  0.0000     & 1           &  2          &  1          & -0.73129098 & -1.46573659 & 0.008875497\\\\\n",
       "\teducation & 27          & 2577        &  3.190144   &  1.1077139  &  3          &  3.221522   &  1.4826     & 1           &  5          &  4          & -0.04760679 & -0.32063136 & 0.021820787\\\\\n",
       "\tage & 28          & 2800        & 28.782143   & 11.1275548  & 26          & 27.428571   & 10.3782     & 3           & 86          & 83          &  1.02363773 &  0.56495525 & 0.210291018\\\\\n",
       "\\end{tabular}\n"
      ],
      "text/markdown": [
       "\n",
       "| <!--/--> | vars | n | mean | sd | median | trimmed | mad | min | max | range | skew | kurtosis | se |\n",
       "|---|---|---|---|---|---|---|---|---|---|---|---|---|---|\n",
       "| A1 |  1          | 2784        |  2.413434   |  1.4077372  |  2          |  2.230251   |  1.4826     | 1           |  6          |  5          |  0.82504356 | -0.30763947 | 0.026680069 |\n",
       "| A2 |  2          | 2773        |  4.802380   |  1.1720199  |  5          |  4.977017   |  1.4826     | 1           |  6          |  5          | -1.12428533 |  1.05483862 | 0.022256663 |\n",
       "| A3 |  3          | 2774        |  4.603821   |  1.3018336  |  5          |  4.788288   |  1.4826     | 1           |  6          |  5          | -0.99845684 |  0.44204096 | 0.024717370 |\n",
       "| A4 |  4          | 2781        |  4.699748   |  1.4796327  |  5          |  4.932584   |  1.4826     | 1           |  6          |  5          | -1.03094275 |  0.04045252 | 0.028057788 |\n",
       "| A5 |  5          | 2784        |  4.560345   |  1.2585121  |  5          |  4.711849   |  1.4826     | 1           |  6          |  5          | -0.84723335 |  0.15890562 | 0.023851889 |\n",
       "| C1 |  6          | 2779        |  4.502339   |  1.2413465  |  5          |  4.640899   |  1.4826     | 1           |  6          |  5          | -0.85470158 |  0.30442934 | 0.023547715 |\n",
       "| C2 |  7          | 2776        |  4.369957   |  1.3183465  |  5          |  4.502250   |  1.4826     | 1           |  6          |  5          | -0.74181968 | -0.13643987 | 0.025021875 |\n",
       "| C3 |  8          | 2780        |  4.303957   |  1.2885518  |  5          |  4.417716   |  1.4826     | 1           |  6          |  5          | -0.69145540 | -0.13233095 | 0.024438778 |\n",
       "| C4 |  9          | 2774        |  2.553353   |  1.3751181  |  2          |  2.413514   |  1.4826     | 1           |  6          |  5          |  0.59617294 | -0.62141881 | 0.026108792 |\n",
       "| C5 | 10          | 2784        |  3.296695   |  1.6285419  |  3          |  3.245961   |  1.4826     | 1           |  6          |  5          |  0.06616716 | -1.21666936 | 0.030864860 |\n",
       "| E1 | 11          | 2777        |  2.974433   |  1.6315055  |  3          |  2.859649   |  1.4826     | 1           |  6          |  5          |  0.37345508 | -1.09233560 | 0.030959974 |\n",
       "| E2 | 12          | 2784        |  3.141882   |  1.6052103  |  3          |  3.063285   |  1.4826     | 1           |  6          |  5          |  0.22082058 | -1.14863822 | 0.030422670 |\n",
       "| E3 | 13          | 2775        |  4.000721   |  1.3527188  |  4          |  4.067987   |  1.4826     | 1           |  6          |  5          | -0.47037917 | -0.46511252 | 0.025678877 |\n",
       "| E4 | 14          | 2791        |  4.422429   |  1.4575174  |  5          |  4.590685   |  1.4826     | 1           |  6          |  5          | -0.82374021 | -0.30422493 | 0.027588865 |\n",
       "| E5 | 15          | 2779        |  4.416337   |  1.3347677  |  5          |  4.562697   |  1.4826     | 1           |  6          |  5          | -0.77706636 | -0.09369184 | 0.025319867 |\n",
       "| N1 | 16          | 2778        |  2.929086   |  1.5709175  |  3          |  2.824191   |  1.4826     | 1           |  6          |  5          |  0.37122930 | -1.01285920 | 0.029804871 |\n",
       "| N2 | 17          | 2779        |  3.507737   |  1.5259436  |  4          |  3.509663   |  1.4826     | 1           |  6          |  5          | -0.07694366 | -1.05105088 | 0.028946376 |\n",
       "| N3 | 18          | 2789        |  3.216565   |  1.6029021  |  3          |  3.155396   |  1.4826     | 1           |  6          |  5          |  0.15059864 | -1.17860226 | 0.030351680 |\n",
       "| N4 | 19          | 2764        |  3.185601   |  1.5696851  |  3          |  3.119801   |  1.4826     | 1           |  6          |  5          |  0.19688969 | -1.09235018 | 0.029856818 |\n",
       "| N5 | 20          | 2771        |  2.969686   |  1.6186474  |  3          |  2.853406   |  1.4826     | 1           |  6          |  5          |  0.37425725 | -1.06128795 | 0.030749212 |\n",
       "| O1 | 21          | 2778        |  4.816055   |  1.1295303  |  5          |  4.960881   |  1.4826     | 1           |  6          |  5          | -0.89688239 |  0.42523597 | 0.021430473 |\n",
       "| O2 | 22          | 2800        |  2.713214   |  1.5651518  |  2          |  2.561607   |  1.4826     | 1           |  6          |  5          |  0.58536528 | -0.81267459 | 0.029578589 |\n",
       "| O3 | 23          | 2772        |  4.438312   |  1.2209011  |  5          |  4.556808   |  1.4826     | 1           |  6          |  5          | -0.77263334 |  0.30198047 | 0.023189099 |\n",
       "| O4 | 24          | 2786        |  4.892319   |  1.2212504  |  5          |  5.095516   |  1.4826     | 1           |  6          |  5          | -1.21759120 |  1.07975589 | 0.023137380 |\n",
       "| O5 | 25          | 2780        |  2.489568   |  1.3279590  |  2          |  2.338129   |  1.4826     | 1           |  6          |  5          |  0.73808342 | -0.23897800 | 0.025186178 |\n",
       "| gender | 26          | 2800        |  1.671786   |  0.4696471  |  2          |  1.714732   |  0.0000     | 1           |  2          |  1          | -0.73129098 | -1.46573659 | 0.008875497 |\n",
       "| education | 27          | 2577        |  3.190144   |  1.1077139  |  3          |  3.221522   |  1.4826     | 1           |  5          |  4          | -0.04760679 | -0.32063136 | 0.021820787 |\n",
       "| age | 28          | 2800        | 28.782143   | 11.1275548  | 26          | 27.428571   | 10.3782     | 3           | 86          | 83          |  1.02363773 |  0.56495525 | 0.210291018 |\n",
       "\n"
      ],
      "text/plain": [
       "          vars n    mean      sd         median trimmed   mad     min max range\n",
       "A1         1   2784  2.413434  1.4077372  2      2.230251  1.4826 1    6   5   \n",
       "A2         2   2773  4.802380  1.1720199  5      4.977017  1.4826 1    6   5   \n",
       "A3         3   2774  4.603821  1.3018336  5      4.788288  1.4826 1    6   5   \n",
       "A4         4   2781  4.699748  1.4796327  5      4.932584  1.4826 1    6   5   \n",
       "A5         5   2784  4.560345  1.2585121  5      4.711849  1.4826 1    6   5   \n",
       "C1         6   2779  4.502339  1.2413465  5      4.640899  1.4826 1    6   5   \n",
       "C2         7   2776  4.369957  1.3183465  5      4.502250  1.4826 1    6   5   \n",
       "C3         8   2780  4.303957  1.2885518  5      4.417716  1.4826 1    6   5   \n",
       "C4         9   2774  2.553353  1.3751181  2      2.413514  1.4826 1    6   5   \n",
       "C5        10   2784  3.296695  1.6285419  3      3.245961  1.4826 1    6   5   \n",
       "E1        11   2777  2.974433  1.6315055  3      2.859649  1.4826 1    6   5   \n",
       "E2        12   2784  3.141882  1.6052103  3      3.063285  1.4826 1    6   5   \n",
       "E3        13   2775  4.000721  1.3527188  4      4.067987  1.4826 1    6   5   \n",
       "E4        14   2791  4.422429  1.4575174  5      4.590685  1.4826 1    6   5   \n",
       "E5        15   2779  4.416337  1.3347677  5      4.562697  1.4826 1    6   5   \n",
       "N1        16   2778  2.929086  1.5709175  3      2.824191  1.4826 1    6   5   \n",
       "N2        17   2779  3.507737  1.5259436  4      3.509663  1.4826 1    6   5   \n",
       "N3        18   2789  3.216565  1.6029021  3      3.155396  1.4826 1    6   5   \n",
       "N4        19   2764  3.185601  1.5696851  3      3.119801  1.4826 1    6   5   \n",
       "N5        20   2771  2.969686  1.6186474  3      2.853406  1.4826 1    6   5   \n",
       "O1        21   2778  4.816055  1.1295303  5      4.960881  1.4826 1    6   5   \n",
       "O2        22   2800  2.713214  1.5651518  2      2.561607  1.4826 1    6   5   \n",
       "O3        23   2772  4.438312  1.2209011  5      4.556808  1.4826 1    6   5   \n",
       "O4        24   2786  4.892319  1.2212504  5      5.095516  1.4826 1    6   5   \n",
       "O5        25   2780  2.489568  1.3279590  2      2.338129  1.4826 1    6   5   \n",
       "gender    26   2800  1.671786  0.4696471  2      1.714732  0.0000 1    2   1   \n",
       "education 27   2577  3.190144  1.1077139  3      3.221522  1.4826 1    5   4   \n",
       "age       28   2800 28.782143 11.1275548 26     27.428571 10.3782 3   86  83   \n",
       "          skew        kurtosis    se         \n",
       "A1         0.82504356 -0.30763947 0.026680069\n",
       "A2        -1.12428533  1.05483862 0.022256663\n",
       "A3        -0.99845684  0.44204096 0.024717370\n",
       "A4        -1.03094275  0.04045252 0.028057788\n",
       "A5        -0.84723335  0.15890562 0.023851889\n",
       "C1        -0.85470158  0.30442934 0.023547715\n",
       "C2        -0.74181968 -0.13643987 0.025021875\n",
       "C3        -0.69145540 -0.13233095 0.024438778\n",
       "C4         0.59617294 -0.62141881 0.026108792\n",
       "C5         0.06616716 -1.21666936 0.030864860\n",
       "E1         0.37345508 -1.09233560 0.030959974\n",
       "E2         0.22082058 -1.14863822 0.030422670\n",
       "E3        -0.47037917 -0.46511252 0.025678877\n",
       "E4        -0.82374021 -0.30422493 0.027588865\n",
       "E5        -0.77706636 -0.09369184 0.025319867\n",
       "N1         0.37122930 -1.01285920 0.029804871\n",
       "N2        -0.07694366 -1.05105088 0.028946376\n",
       "N3         0.15059864 -1.17860226 0.030351680\n",
       "N4         0.19688969 -1.09235018 0.029856818\n",
       "N5         0.37425725 -1.06128795 0.030749212\n",
       "O1        -0.89688239  0.42523597 0.021430473\n",
       "O2         0.58536528 -0.81267459 0.029578589\n",
       "O3        -0.77263334  0.30198047 0.023189099\n",
       "O4        -1.21759120  1.07975589 0.023137380\n",
       "O5         0.73808342 -0.23897800 0.025186178\n",
       "gender    -0.73129098 -1.46573659 0.008875497\n",
       "education -0.04760679 -0.32063136 0.021820787\n",
       "age        1.02363773  0.56495525 0.210291018"
      ]
     },
     "metadata": {},
     "output_type": "display_data"
    }
   ],
   "source": [
    "describe (bfi_data) #look at descriptives for each variable"
   ]
  },
  {
   "cell_type": "markdown",
   "metadata": {},
   "source": [
    "Here we could discuss any potential trends/characteristics of the data. For example, you might note any variables with high skewness or kurtosis."
   ]
  },
  {
   "cell_type": "markdown",
   "metadata": {},
   "source": [
    "Next, we created composite scores for each of the 5 factors, again using the psych package. Reverse coded items are denoted with a - sign."
   ]
  },
  {
   "cell_type": "code",
   "execution_count": 8,
   "metadata": {},
   "outputs": [],
   "source": [
    "keys.list <-\n",
    "list(agree=c(\"-A1\",\"A2\",\"A3\",\"A4\",\"A5\"), conscientious=c(\"C1\",\"C2\",\"C3\",\"-C4\",\"-C5\"),\n",
    "extraversion=c(\"-E1\",\"-E2\",\"E3\",\"E4\",\"E5\"), neuroticism=c(\"N1\",\"N2\",\"N3\",\"N4\",\"N5\"),\n",
    "openness = c(\"O1\",\"-O2\",\"O3\",\"O4\",\"-O5\")) \n"
   ]
  },
  {
   "cell_type": "markdown",
   "metadata": {},
   "source": [
    "Next, we calculated scale scores for participant, for each of the big five variables."
   ]
  },
  {
   "cell_type": "code",
   "execution_count": 9,
   "metadata": {},
   "outputs": [
    {
     "data": {
      "text/html": [
       "<table>\n",
       "<thead><tr><th></th><th scope=col>agree</th><th scope=col>conscientious</th><th scope=col>extraversion</th><th scope=col>neuroticism</th><th scope=col>openness</th></tr></thead>\n",
       "<tbody>\n",
       "\t<tr><th scope=row>61617</th><td>4.0</td><td>2.8</td><td>3.8</td><td>2.8</td><td>3.0</td></tr>\n",
       "\t<tr><th scope=row>61618</th><td>4.2</td><td>4.0</td><td>5.0</td><td>3.8</td><td>4.0</td></tr>\n",
       "\t<tr><th scope=row>61620</th><td>3.8</td><td>4.0</td><td>4.2</td><td>3.6</td><td>4.8</td></tr>\n",
       "\t<tr><th scope=row>61621</th><td>4.6</td><td>3.0</td><td>3.6</td><td>2.8</td><td>3.2</td></tr>\n",
       "\t<tr><th scope=row>61622</th><td>4.0</td><td>4.4</td><td>4.8</td><td>3.2</td><td>3.6</td></tr>\n",
       "\t<tr><th scope=row>61623</th><td>4.6</td><td>5.6</td><td>5.6</td><td>3.0</td><td>5.0</td></tr>\n",
       "</tbody>\n",
       "</table>\n"
      ],
      "text/latex": [
       "\\begin{tabular}{r|lllll}\n",
       "  & agree & conscientious & extraversion & neuroticism & openness\\\\\n",
       "\\hline\n",
       "\t61617 & 4.0 & 2.8 & 3.8 & 2.8 & 3.0\\\\\n",
       "\t61618 & 4.2 & 4.0 & 5.0 & 3.8 & 4.0\\\\\n",
       "\t61620 & 3.8 & 4.0 & 4.2 & 3.6 & 4.8\\\\\n",
       "\t61621 & 4.6 & 3.0 & 3.6 & 2.8 & 3.2\\\\\n",
       "\t61622 & 4.0 & 4.4 & 4.8 & 3.2 & 3.6\\\\\n",
       "\t61623 & 4.6 & 5.6 & 5.6 & 3.0 & 5.0\\\\\n",
       "\\end{tabular}\n"
      ],
      "text/markdown": [
       "\n",
       "| <!--/--> | agree | conscientious | extraversion | neuroticism | openness |\n",
       "|---|---|---|---|---|---|\n",
       "| 61617 | 4.0 | 2.8 | 3.8 | 2.8 | 3.0 |\n",
       "| 61618 | 4.2 | 4.0 | 5.0 | 3.8 | 4.0 |\n",
       "| 61620 | 3.8 | 4.0 | 4.2 | 3.6 | 4.8 |\n",
       "| 61621 | 4.6 | 3.0 | 3.6 | 2.8 | 3.2 |\n",
       "| 61622 | 4.0 | 4.4 | 4.8 | 3.2 | 3.6 |\n",
       "| 61623 | 4.6 | 5.6 | 5.6 | 3.0 | 5.0 |\n",
       "\n"
      ],
      "text/plain": [
       "      agree conscientious extraversion neuroticism openness\n",
       "61617 4.0   2.8           3.8          2.8         3.0     \n",
       "61618 4.2   4.0           5.0          3.8         4.0     \n",
       "61620 3.8   4.0           4.2          3.6         4.8     \n",
       "61621 4.6   3.0           3.6          2.8         3.2     \n",
       "61622 4.0   4.4           4.8          3.2         3.6     \n",
       "61623 4.6   5.6           5.6          3.0         5.0     "
      ]
     },
     "metadata": {},
     "output_type": "display_data"
    }
   ],
   "source": [
    "scores <- scoreItems(keys.list,bfi_data,min=1,max=6) #create scores & specify the minimum and maximum values\n",
    "head(scores$scores) #view scores"
   ]
  },
  {
   "cell_type": "markdown",
   "metadata": {},
   "source": [
    "We can also examine scale-level characteristics. "
   ]
  },
  {
   "cell_type": "code",
   "execution_count": 10,
   "metadata": {},
   "outputs": [
    {
     "data": {
      "text/plain": [
       "Call: scoreItems(keys = keys.list, items = bfi_data, min = 1, max = 6)\n",
       "\n",
       "(Unstandardized) Alpha:\n",
       "      agree conscientious extraversion neuroticism openness\n",
       "alpha   0.7          0.72         0.76        0.81      0.6\n",
       "\n",
       "Standard errors of unstandardized Alpha:\n",
       "      agree conscientious extraversion neuroticism openness\n",
       "ASE   0.014         0.014        0.013       0.011    0.017\n",
       "\n",
       "Average item correlation:\n",
       "          agree conscientious extraversion neuroticism openness\n",
       "average.r  0.32          0.34         0.39        0.46     0.23\n",
       "\n",
       "Median item correlation:\n",
       "        agree conscientious  extraversion   neuroticism      openness \n",
       "         0.34          0.34          0.38          0.41          0.22 \n",
       "\n",
       " Guttman 6* reliability: \n",
       "         agree conscientious extraversion neuroticism openness\n",
       "Lambda.6   0.7          0.72         0.76        0.81      0.6\n",
       "\n",
       "Signal/Noise based upon av.r : \n",
       "             agree conscientious extraversion neuroticism openness\n",
       "Signal/Noise   2.3           2.6          3.2         4.3      1.5\n",
       "\n",
       "Scale intercorrelations corrected for attenuation \n",
       " raw correlations below the diagonal, alpha on the diagonal \n",
       " corrected correlations above the diagonal:\n",
       "              agree conscientious extraversion neuroticism openness\n",
       "agree          0.70          0.36         0.63      -0.245     0.23\n",
       "conscientious  0.26          0.72         0.35      -0.305     0.30\n",
       "extraversion   0.46          0.26         0.76      -0.284     0.32\n",
       "neuroticism   -0.18         -0.23        -0.22       0.812    -0.12\n",
       "openness       0.15          0.19         0.22      -0.086     0.60\n",
       "\n",
       " In order to see the item by scale loadings and frequency counts of the data\n",
       " print with the short option = FALSE"
      ]
     },
     "metadata": {},
     "output_type": "display_data"
    }
   ],
   "source": [
    "scores"
   ]
  },
  {
   "cell_type": "markdown",
   "metadata": {},
   "source": [
    "Again, here we might comment on characteristics. For example, reliability of the openness scale seems particularly low."
   ]
  },
  {
   "cell_type": "markdown",
   "metadata": {},
   "source": [
    "Next, these scale scores are added to the original dataset. "
   ]
  },
  {
   "cell_type": "code",
   "execution_count": 11,
   "metadata": {},
   "outputs": [
    {
     "data": {
      "text/html": [
       "<table>\n",
       "<thead><tr><th></th><th scope=col>A1</th><th scope=col>A2</th><th scope=col>A3</th><th scope=col>A4</th><th scope=col>A5</th><th scope=col>C1</th><th scope=col>C2</th><th scope=col>C3</th><th scope=col>C4</th><th scope=col>C5</th><th scope=col>...</th><th scope=col>O4</th><th scope=col>O5</th><th scope=col>gender</th><th scope=col>education</th><th scope=col>age</th><th scope=col>agree</th><th scope=col>conscientious</th><th scope=col>extraversion</th><th scope=col>neuroticism</th><th scope=col>openness</th></tr></thead>\n",
       "<tbody>\n",
       "\t<tr><th scope=row>61617</th><td>2  </td><td>4  </td><td>3  </td><td>4  </td><td>4  </td><td>2  </td><td>3  </td><td>3  </td><td>4  </td><td>4  </td><td>...</td><td>4  </td><td>3  </td><td>1  </td><td>NA </td><td>16 </td><td>4.0</td><td>2.8</td><td>3.8</td><td>2.8</td><td>3.0</td></tr>\n",
       "\t<tr><th scope=row>61618</th><td>2  </td><td>4  </td><td>5  </td><td>2  </td><td>5  </td><td>5  </td><td>4  </td><td>4  </td><td>3  </td><td>4  </td><td>...</td><td>3  </td><td>3  </td><td>2  </td><td>NA </td><td>18 </td><td>4.2</td><td>4.0</td><td>5.0</td><td>3.8</td><td>4.0</td></tr>\n",
       "\t<tr><th scope=row>61620</th><td>5  </td><td>4  </td><td>5  </td><td>4  </td><td>4  </td><td>4  </td><td>5  </td><td>4  </td><td>2  </td><td>5  </td><td>...</td><td>5  </td><td>2  </td><td>2  </td><td>NA </td><td>17 </td><td>3.8</td><td>4.0</td><td>4.2</td><td>3.6</td><td>4.8</td></tr>\n",
       "\t<tr><th scope=row>61621</th><td>4  </td><td>4  </td><td>6  </td><td>5  </td><td>5  </td><td>4  </td><td>4  </td><td>3  </td><td>5  </td><td>5  </td><td>...</td><td>3  </td><td>5  </td><td>2  </td><td>NA </td><td>17 </td><td>4.6</td><td>3.0</td><td>3.6</td><td>2.8</td><td>3.2</td></tr>\n",
       "\t<tr><th scope=row>61622</th><td>2  </td><td>3  </td><td>3  </td><td>4  </td><td>5  </td><td>4  </td><td>4  </td><td>5  </td><td>3  </td><td>2  </td><td>...</td><td>3  </td><td>3  </td><td>1  </td><td>NA </td><td>17 </td><td>4.0</td><td>4.4</td><td>4.8</td><td>3.2</td><td>3.6</td></tr>\n",
       "\t<tr><th scope=row>61623</th><td>6  </td><td>6  </td><td>5  </td><td>6  </td><td>5  </td><td>6  </td><td>6  </td><td>6  </td><td>1  </td><td>3  </td><td>...</td><td>6  </td><td>1  </td><td>2  </td><td> 3 </td><td>21 </td><td>4.6</td><td>5.6</td><td>5.6</td><td>3.0</td><td>5.0</td></tr>\n",
       "</tbody>\n",
       "</table>\n"
      ],
      "text/latex": [
       "\\begin{tabular}{r|lllllllllllllllllllllllllllllllll}\n",
       "  & A1 & A2 & A3 & A4 & A5 & C1 & C2 & C3 & C4 & C5 & ... & O4 & O5 & gender & education & age & agree & conscientious & extraversion & neuroticism & openness\\\\\n",
       "\\hline\n",
       "\t61617 & 2   & 4   & 3   & 4   & 4   & 2   & 3   & 3   & 4   & 4   & ... & 4   & 3   & 1   & NA  & 16  & 4.0 & 2.8 & 3.8 & 2.8 & 3.0\\\\\n",
       "\t61618 & 2   & 4   & 5   & 2   & 5   & 5   & 4   & 4   & 3   & 4   & ... & 3   & 3   & 2   & NA  & 18  & 4.2 & 4.0 & 5.0 & 3.8 & 4.0\\\\\n",
       "\t61620 & 5   & 4   & 5   & 4   & 4   & 4   & 5   & 4   & 2   & 5   & ... & 5   & 2   & 2   & NA  & 17  & 3.8 & 4.0 & 4.2 & 3.6 & 4.8\\\\\n",
       "\t61621 & 4   & 4   & 6   & 5   & 5   & 4   & 4   & 3   & 5   & 5   & ... & 3   & 5   & 2   & NA  & 17  & 4.6 & 3.0 & 3.6 & 2.8 & 3.2\\\\\n",
       "\t61622 & 2   & 3   & 3   & 4   & 5   & 4   & 4   & 5   & 3   & 2   & ... & 3   & 3   & 1   & NA  & 17  & 4.0 & 4.4 & 4.8 & 3.2 & 3.6\\\\\n",
       "\t61623 & 6   & 6   & 5   & 6   & 5   & 6   & 6   & 6   & 1   & 3   & ... & 6   & 1   & 2   &  3  & 21  & 4.6 & 5.6 & 5.6 & 3.0 & 5.0\\\\\n",
       "\\end{tabular}\n"
      ],
      "text/markdown": [
       "\n",
       "| <!--/--> | A1 | A2 | A3 | A4 | A5 | C1 | C2 | C3 | C4 | C5 | ... | O4 | O5 | gender | education | age | agree | conscientious | extraversion | neuroticism | openness |\n",
       "|---|---|---|---|---|---|---|---|---|---|---|---|---|---|---|---|---|---|---|---|---|---|\n",
       "| 61617 | 2   | 4   | 3   | 4   | 4   | 2   | 3   | 3   | 4   | 4   | ... | 4   | 3   | 1   | NA  | 16  | 4.0 | 2.8 | 3.8 | 2.8 | 3.0 |\n",
       "| 61618 | 2   | 4   | 5   | 2   | 5   | 5   | 4   | 4   | 3   | 4   | ... | 3   | 3   | 2   | NA  | 18  | 4.2 | 4.0 | 5.0 | 3.8 | 4.0 |\n",
       "| 61620 | 5   | 4   | 5   | 4   | 4   | 4   | 5   | 4   | 2   | 5   | ... | 5   | 2   | 2   | NA  | 17  | 3.8 | 4.0 | 4.2 | 3.6 | 4.8 |\n",
       "| 61621 | 4   | 4   | 6   | 5   | 5   | 4   | 4   | 3   | 5   | 5   | ... | 3   | 5   | 2   | NA  | 17  | 4.6 | 3.0 | 3.6 | 2.8 | 3.2 |\n",
       "| 61622 | 2   | 3   | 3   | 4   | 5   | 4   | 4   | 5   | 3   | 2   | ... | 3   | 3   | 1   | NA  | 17  | 4.0 | 4.4 | 4.8 | 3.2 | 3.6 |\n",
       "| 61623 | 6   | 6   | 5   | 6   | 5   | 6   | 6   | 6   | 1   | 3   | ... | 6   | 1   | 2   |  3  | 21  | 4.6 | 5.6 | 5.6 | 3.0 | 5.0 |\n",
       "\n"
      ],
      "text/plain": [
       "      A1 A2 A3 A4 A5 C1 C2 C3 C4 C5 ... O4 O5 gender education age agree\n",
       "61617 2  4  3  4  4  2  3  3  4  4  ... 4  3  1      NA        16  4.0  \n",
       "61618 2  4  5  2  5  5  4  4  3  4  ... 3  3  2      NA        18  4.2  \n",
       "61620 5  4  5  4  4  4  5  4  2  5  ... 5  2  2      NA        17  3.8  \n",
       "61621 4  4  6  5  5  4  4  3  5  5  ... 3  5  2      NA        17  4.6  \n",
       "61622 2  3  3  4  5  4  4  5  3  2  ... 3  3  1      NA        17  4.0  \n",
       "61623 6  6  5  6  5  6  6  6  1  3  ... 6  1  2       3        21  4.6  \n",
       "      conscientious extraversion neuroticism openness\n",
       "61617 2.8           3.8          2.8         3.0     \n",
       "61618 4.0           5.0          3.8         4.0     \n",
       "61620 4.0           4.2          3.6         4.8     \n",
       "61621 3.0           3.6          2.8         3.2     \n",
       "61622 4.4           4.8          3.2         3.6     \n",
       "61623 5.6           5.6          3.0         5.0     "
      ]
     },
     "metadata": {},
     "output_type": "display_data"
    }
   ],
   "source": [
    "bfi_data <- cbind(bfi_data,as.data.frame(scores$scores))\n",
    "head(bfi_data)"
   ]
  },
  {
   "cell_type": "markdown",
   "metadata": {},
   "source": [
    "Here is a correlation matrix among each of the big five variables, gender, age, and education."
   ]
  },
  {
   "cell_type": "code",
   "execution_count": 12,
   "metadata": {},
   "outputs": [
    {
     "name": "stdout",
     "output_type": "stream",
     "text": [
      "              gendr edctn age   agree cnscn extrv nrtcs opnns\n",
      "gender         1.00                                          \n",
      "education      0.01  1.00                                    \n",
      "age            0.05  0.24  1.00                              \n",
      "agree          0.21  0.05  0.18  1.00                        \n",
      "conscientious  0.09  0.02  0.12  0.26  1.00                  \n",
      "extraversion   0.10  0.01  0.06  0.46  0.26  1.00            \n",
      "neuroticism    0.12 -0.05 -0.12 -0.18 -0.23 -0.22  1.00      \n",
      "openness      -0.06  0.10  0.08  0.15  0.19  0.22 -0.09  1.00\n"
     ]
    }
   ],
   "source": [
    "bfi_data %>%\n",
    "select(gender, education, age, agree, conscientious, extraversion, neuroticism, openness) %>%\n",
    "lowerCor()"
   ]
  },
  {
   "cell_type": "markdown",
   "metadata": {},
   "source": [
    "Personality generally seems weakly correlated with demographic variables. Each of the five personality variables are weekly to moderately correlated with each other. "
   ]
  },
  {
   "cell_type": "markdown",
   "metadata": {},
   "source": [
    "We were interested in the relationship between age and conscientiousness, moderated by gender. We regressed conscientiousness on age and added gender as an interaction term."
   ]
  },
  {
   "cell_type": "code",
   "execution_count": 13,
   "metadata": {},
   "outputs": [
    {
     "data": {
      "text/plain": [
       "\n",
       "Call:\n",
       "lm(formula = conscientious ~ age * factor(gender), data = bfi_data)\n",
       "\n",
       "Residuals:\n",
       "    Min      1Q  Median      3Q     Max \n",
       "-3.3542 -0.6395  0.0818  0.7059  1.9697 \n",
       "\n",
       "Coefficients:\n",
       "                     Estimate Std. Error t value Pr(>|t|)    \n",
       "(Intercept)          3.791574   0.084421  44.913  < 2e-16 ***\n",
       "age                  0.012563   0.002803   4.482 7.71e-06 ***\n",
       "factor(gender)2      0.300483   0.103841   2.894  0.00384 ** \n",
       "age:factor(gender)2 -0.004371   0.003408  -1.283  0.19968    \n",
       "---\n",
       "Signif. codes:  0 '***' 0.001 '**' 0.01 '*' 0.05 '.' 0.1 ' ' 1\n",
       "\n",
       "Residual standard error: 0.9371 on 2796 degrees of freedom\n",
       "Multiple R-squared:  0.02191,\tAdjusted R-squared:  0.02086 \n",
       "F-statistic: 20.87 on 3 and 2796 DF,  p-value: 2.264e-13\n"
      ]
     },
     "metadata": {},
     "output_type": "display_data"
    }
   ],
   "source": [
    "summary(lm(conscientious~ age*factor(gender), data = bfi_data))"
   ]
  },
  {
   "cell_type": "markdown",
   "metadata": {},
   "source": [
    "It appears age and gender significantly predict conscientiousness but they do not interact. \n",
    "\n",
    "Here is a visualization of these relationships. "
   ]
  },
  {
   "cell_type": "code",
   "execution_count": 14,
   "metadata": {},
   "outputs": [
    {
     "data": {
      "image/png": "[encoded data removed]",
      "text/plain": [
       "plot without title"
      ]
     },
     "metadata": {},
     "output_type": "display_data"
    }
   ],
   "source": [
    "ggplot(aes(x=age, y=conscientious, color = factor(gender)),data=bfi_data) +\n",
    "  geom_smooth(method=\"lm\") +\n",
    "  scale_color_discrete(name = \"Gender\", labels = c(\"Male\",\"Female\"))+ \n",
    " labs( x = \"Age\", y = \"Conscientiousness\",\n",
    " title =\"Relationship between Age and Conscientiousness by Gender\")"
   ]
  },
  {
   "cell_type": "markdown",
   "metadata": {},
   "source": [
    "This visualization helps interpret the model output. Conscientiousness appears to increase as age increases but there is no major difference in this trend based on gender."
   ]
  }
 ],
 "metadata": {
  "kernelspec": {
   "display_name": "R",
   "language": "R",
   "name": "ir"
  },
  "language_info": {
   "codemirror_mode": "r",
   "file_extension": ".r",
   "mimetype": "text/x-r-source",
   "name": "R",
   "pygments_lexer": "r",
   "version": "3.5.1"
  }
 },
 "nbformat": 4,
 "nbformat_minor": 2
}
