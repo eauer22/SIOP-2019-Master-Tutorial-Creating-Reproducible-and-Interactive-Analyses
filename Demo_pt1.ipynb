{
 "cells": [
  {
   "cell_type": "markdown",
   "metadata": {},
   "source": [
    "# An Introduction to JupyterLab and Binder\n",
    "\n",
    "## **Part 1:** A Brief Intro to JupyterLab and Jupyter Notebooks\n",
    "\n",
    "In this notebook you can document data cleaning and analyses with narrative and render output, creating \"literate\" code. \n"
   ]
  },
  {
   "cell_type": "markdown",
   "metadata": {},
   "source": [
    "### JupyterLab interface\n",
    "We'll start with a quick tour of the JupyterLab interface:\n",
    " * creating a notebook\n",
    " * accessing the tool bar\n",
    " * accessing a console\n",
    " * accessing & opening files (images, datasets, scripts)\n",
    " * adjusting jupyterlab interface\n"
   ]
  },
  {
   "cell_type": "markdown",
   "metadata": {},
   "source": [
    "### Cells\n",
    "You'll build your notebook using \"cells.\" There are 3 types:\n",
    "* Markdown \n",
    "* Code\n",
    "* Raw\n",
    "\n",
    "This text is in a markdown cell, which uses markdown (a lightweight markup language with plain text formatting syntax). When this chunk is rendered, it will be the text you wrote with any formatting you specified. "
   ]
  },
  {
   "cell_type": "markdown",
   "metadata": {},
   "source": [
    "**Here are a few formatting options:**\n",
    "\n",
    "# Heading 1\n",
    "## Heading 2\n",
    "### Heading 3\n",
    "#### Heading 4\n",
    "\n",
    "Italics: *asterisks* or _underscores_.\n",
    "\n",
    "Bold:  **asterisks** or __underscores__.\n",
    "\n",
    "Strikethrough ~~This was an error~~\n",
    "\n",
    "You can create tables:\n",
    "\n",
    "| Participant| Score  |\n",
    "|------|------|\n",
    "|  1  | 45|\n",
    "|  2  | 65|\n",
    "|  3  | 87|\n",
    "\n",
    "You can create lists with bullets or numbers:\n",
    " * point 1\n",
    " * point 2\n",
    " * point 3\n",
    "\n",
    "1. point\n",
    "2. point\n",
    "3. point\n",
    "\n",
    "You can even add pictures:\n",
    "![alt text](http://my.siop.org/portals/58/Images/Conference/Conference%202019/2019_banner.jpg)\n"
   ]
  },
  {
   "cell_type": "code",
   "execution_count": 4,
   "metadata": {},
   "outputs": [
    {
     "name": "stdout",
     "output_type": "stream",
     "text": [
      "[1] \"hello world\"\n"
     ]
    }
   ],
   "source": [
    "# This is a code cell\n",
    "print(\"hello world\")"
   ]
  },
  {
   "cell_type": "markdown",
   "metadata": {},
   "source": [
    "You can specify which kernel the cell will run when you first create the notebook (R, Python, etc.). These cells are running R. \n",
    "\n",
    "You can also interrupt, restart, shutdown, or change the kernel using the kernel tab. "
   ]
  },
  {
   "cell_type": "raw",
   "metadata": {},
   "source": [
    "This is a raw cell. We don't typically need this type of cell. It's used to write html code or specify metadata. "
   ]
  },
  {
   "cell_type": "markdown",
   "metadata": {},
   "source": [
    "### Extensions\n",
    "JupyterLab is an extensible environment, meaning you can use extensions to customize or enhance any part of JupyterLab. \n",
    "\n",
    "The easiest way to enable and search through extensions is by adding the extension manager.\n",
    "* First, you'll need to install Node.js using the Anaconda Navigator.\n",
    "* Second, go to Settings, then click Advanced Settings Editor, and navigate to the Extension Manager tab.\n",
    "* Third, you'll need to set enabled to \"true\":\n",
    "\n",
    "You should see a puzzle option in the left menu and you can add extension from there. "
   ]
  },
  {
   "cell_type": "markdown",
   "metadata": {},
   "source": [
    "![alt text](https://github.com/eauer22/SIOP-2019-Master-Tutorial-Creating-Reproducible-and-Interactive-Analyses/blob/master/screenshots/extensions.PNG?raw=true)"
   ]
  },
  {
   "cell_type": "markdown",
   "metadata": {},
   "source": [
    "There are a ton of extensions available. You can see the full list and documentation here: https://www.npmjs.com/search?q=keywords%3Ajupyterlab-extension&ranking=popularity\n",
    "\n",
    "Some popular ones include git (version control), GitHub (can access GitHub repositories), table of contents, different themes/texts, even a spell checker. There's currently a variable inspector available for python users that allows you to inspect environment variables just like an R Studio environment (hopefully it will be available for the R kernel soon!).\n",
    "\n",
    "Most of these extensions are not created by project Jupyter so it's important to read documentation to assess the quality, purpose, and safety of the extension. "
   ]
  },
  {
   "cell_type": "markdown",
   "metadata": {},
   "source": [
    "### Sharing and Converting Notebooks\n",
    "Now that we can navigate around jupyter lab, create cells, and add extensions, what can we do with this document? "
   ]
  },
  {
   "cell_type": "markdown",
   "metadata": {},
   "source": [
    ".ipynb is the file extension name for the Jupyter Notebook. With this file you can:\n",
    "* add this file to a GitHub repo \n",
    "* render a static version using Jupyter's nbviewer (https://nbviewer.jupyter.org/)\n",
    "* render an interactive version using Binder (we'll see that next)"
   ]
  },
  {
   "cell_type": "markdown",
   "metadata": {},
   "source": [
    "You can also export this notebook in a number of ways:\n"
   ]
  },
  {
   "cell_type": "markdown",
   "metadata": {},
   "source": [
    "![alt text](https://github.com/eauer22/SIOP-2019-Master-Tutorial-Creating-Reproducible-and-Interactive-Analyses/blob/master/screenshots/fileexport.png?raw=true)"
   ]
  },
  {
   "cell_type": "markdown",
   "metadata": {},
   "source": [
    "Asciidoc: similar to markdown\n",
    "\n",
    "HTML: to html file\n",
    "\n",
    "LaTex: to LaTex file\n",
    "\n",
    "Markdown: to markdown file\n",
    "\n",
    "PDF: to PDF (can be tricky with images)\n",
    "\n",
    "ReStructured Text: primarily for python documentation\n",
    "\n",
    "Executable Script: a plain R or python script (just the code cells)\n",
    "\n",
    "Reveal.js Slides: as presentation slides"
   ]
  },
  {
   "cell_type": "markdown",
   "metadata": {},
   "source": [
    "## **Part 2:** A Brief Intro Binder\n"
   ]
  },
  {
   "cell_type": "markdown",
   "metadata": {},
   "source": [
    "### Building a Binder\n",
    "First, we'll need to preparing to create a Binder. We'll be using mybinder.org.\n",
    "\n",
    "You’ll need a public code repository (e.g., GitHub) that contains:\n",
    "* Code (Jupyter Notebook, R script)\n",
    "* Configuration files for the environment (software and dependencies)\n",
    "* Data (depending on size)\n",
    "\n",
    "_Note: The repository should not contain personal or sensitive information (such as passwords) or private data_\n"
   ]
  },
  {
   "cell_type": "markdown",
   "metadata": {},
   "source": [
    "We just created the notebook that we want to run interactively using Binder so we'll move on to configuration files.\n",
    "\n",
    "For R users, you'll need to add two configuration files to your repository. \n",
    "1. runtime.txt\n",
    "2. install.R\n",
    "\n",
    "runtime.txt tells the binder to include R in the dockerfile. The date specifies the version for both R and all libraries (a snapshot of CRAN using MRAN will be used for installing libraries). This will limit any versioning issues. \n",
    "\n",
    "Here's what the runtime.txt file might look like:"
   ]
  },
  {
   "cell_type": "markdown",
   "metadata": {},
   "source": [
    "![alt text](https://github.com/eauer22/SIOP-2019-Master-Tutorial-Creating-Reproducible-and-Interactive-Analyses/blob/master/screenshots/runtimepicture.png?raw=true)\n"
   ]
  },
  {
   "cell_type": "markdown",
   "metadata": {},
   "source": [
    "The install.R file will be where you specify which R libraries need downloading.\n",
    "\n",
    "Here's what an install.R file might look like:"
   ]
  },
  {
   "cell_type": "markdown",
   "metadata": {},
   "source": [
    "![alt text](https://github.com/eauer22/SIOP-2019-Master-Tutorial-Creating-Reproducible-and-Interactive-Analyses/blob/master/screenshots/runtimepicture2.png?raw=true)\n"
   ]
  },
  {
   "cell_type": "markdown",
   "metadata": {},
   "source": [
    "You can add these files to your local directory or directly onto GitHub. "
   ]
  },
  {
   "cell_type": "markdown",
   "metadata": {},
   "source": [
    "Last, we'll need to get data into the binder. \n",
    "* All data must be public\n",
    "* Small (10MB or less): add directly to repository & build as usual\n",
    "* Medium ( < 100 GB): add to repository and use a postBuild file\n",
    "* Large: possible, but avoid & consider alternatives\n"
   ]
  },
  {
   "cell_type": "markdown",
   "metadata": {},
   "source": [
    "Once our repository is all set up, we're ready to build the binder. You'll need to add a link from your github repository to the mybinder.org website. It may take a while to build depending on the complexity of your repository. The more dependencies, the longer it will take. "
   ]
  },
  {
   "cell_type": "markdown",
   "metadata": {},
   "source": [
    "\n",
    "![alt text](https://github.com/eauer22/SIOP-2019-Master-Tutorial-Creating-Reproducible-and-Interactive-Analyses/blob/master/screenshots/build%20binder.png?raw=true)"
   ]
  },
  {
   "cell_type": "markdown",
   "metadata": {},
   "source": [
    "### Sharing a binder"
   ]
  },
  {
   "cell_type": "markdown",
   "metadata": {},
   "source": [
    "Buttons, urls, customizable url paths(urlpath=lab/, urlpath=rstudio/, urlpath=shiny/), file paths"
   ]
  }
 ],
 "metadata": {
  "kernelspec": {
   "display_name": "R",
   "language": "R",
   "name": "ir"
  },
  "language_info": {
   "codemirror_mode": "r",
   "file_extension": ".r",
   "mimetype": "text/x-r-source",
   "name": "R",
   "pygments_lexer": "r",
   "version": "3.5.1"
  }
 },
 "nbformat": 4,
 "nbformat_minor": 2
}
