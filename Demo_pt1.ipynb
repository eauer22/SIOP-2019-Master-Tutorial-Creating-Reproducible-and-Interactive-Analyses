{
 "cells": [
  {
   "cell_type": "markdown",
   "metadata": {},
   "source": [
    "# An Introduction to JupyterLab and Binder\n",
    "\n",
    "## **Part 1:** A Brief Intro to JupyterLab and Jupyter Notebooks\n",
    "\n",
    "In this notebook you can document data cleaning and analyses with narrative and render output, creating \"literate\" code. \n"
   ]
  },
  {
   "cell_type": "markdown",
   "metadata": {},
   "source": [
    "### JupyterLab interface\n",
    "We'll start with a quick tour of the JupyterLab interface:\n",
    " * creating a notebook\n",
    " * accessing the tool bar\n",
    " * accessing a console\n",
    " * accessing & opening files (images, datasets, scripts)\n",
    " * adjusting jupyterlab interface\n"
   ]
  },
  {
   "cell_type": "markdown",
   "metadata": {},
   "source": [
    "### Cells\n",
    "You'll build your notebook using \"cells.\" There are 3 types:\n",
    "![alt text](https://github.com/eauer22/SIOP-2019-Master-Tutorial-Creating-Reproducible-and-Interactive-Analyses/blob/master/screenshots/celltypes.png?raw=true) \n",
    "This text is in a markdown cell, which uses markdown (a lightweight markup language with plain text formatting syntax). When this chunk is rendered, it will be the text you wrote with any formatting you specified. "
   ]
  },
  {
   "cell_type": "markdown",
   "metadata": {},
   "source": [
    "**Here are a few formatting options:**\n",
    "\n",
    "# Heading 1\n",
    "## Heading 2\n",
    "### Heading 3\n",
    "#### Heading 4\n",
    "\n",
    "Italics: *asterisks* or _underscores_.\n",
    "\n",
    "Bold:  **asterisks** or __underscores__.\n",
    "\n",
    "Strikethrough ~~This was an error~~\n",
    "\n",
    "You can create tables:\n",
    "\n",
    "| Participant| Score  |\n",
    "|------|------|\n",
    "|  1  | 45|\n",
    "|  2  | 65|\n",
    "|  3  | 87|\n",
    "\n",
    "You can create lists with bullets or numbers:\n",
    " * point 1\n",
    " * point 2\n",
    " * point 3\n",
    "\n",
    "1. point\n",
    "2. point\n",
    "3. point\n",
    "\n",
    "You can even add pictures (just copy the link URL, typically from your website or repository):\n",
    "![alt text](http://my.siop.org/portals/58/Images/Conference/Conference%202019/2019_banner.jpg)\n"
   ]
  },
  {
   "cell_type": "code",
   "execution_count": 32,
   "metadata": {},
   "outputs": [
    {
     "name": "stdout",
     "output_type": "stream",
     "text": [
      "[1] \"hello world\"\n"
     ]
    },
    {
     "data": {
      "text/html": [
       "60"
      ],
      "text/latex": [
       "60"
      ],
      "text/markdown": [
       "60"
      ],
      "text/plain": [
       "[1] 60"
      ]
     },
     "metadata": {},
     "output_type": "display_data"
    },
    {
     "data": {
      "text/html": [
       "<table>\n",
       "<thead><tr><th scope=col>participant</th><th scope=col>absences</th><th scope=col>gpa</th></tr></thead>\n",
       "<tbody>\n",
       "\t<tr><td>1  </td><td>7  </td><td>2.4</td></tr>\n",
       "\t<tr><td>2  </td><td>0  </td><td>4.0</td></tr>\n",
       "\t<tr><td>3  </td><td>5  </td><td>3.0</td></tr>\n",
       "\t<tr><td>4  </td><td>2  </td><td>3.5</td></tr>\n",
       "\t<tr><td>5  </td><td>4  </td><td>3.0</td></tr>\n",
       "</tbody>\n",
       "</table>\n"
      ],
      "text/latex": [
       "\\begin{tabular}{r|lll}\n",
       " participant & absences & gpa\\\\\n",
       "\\hline\n",
       "\t 1   & 7   & 2.4\\\\\n",
       "\t 2   & 0   & 4.0\\\\\n",
       "\t 3   & 5   & 3.0\\\\\n",
       "\t 4   & 2   & 3.5\\\\\n",
       "\t 5   & 4   & 3.0\\\\\n",
       "\\end{tabular}\n"
      ],
      "text/markdown": [
       "\n",
       "| participant | absences | gpa |\n",
       "|---|---|---|\n",
       "| 1   | 7   | 2.4 |\n",
       "| 2   | 0   | 4.0 |\n",
       "| 3   | 5   | 3.0 |\n",
       "| 4   | 2   | 3.5 |\n",
       "| 5   | 4   | 3.0 |\n",
       "\n"
      ],
      "text/plain": [
       "  participant absences gpa\n",
       "1 1           7        2.4\n",
       "2 2           0        4.0\n",
       "3 3           5        3.0\n",
       "4 4           2        3.5\n",
       "5 5           4        3.0"
      ]
     },
     "metadata": {},
     "output_type": "display_data"
    },
    {
     "data": {
      "image/png": "[encoded data removed]",
      "text/plain": [
       "plot without title"
      ]
     },
     "metadata": {},
     "output_type": "display_data"
    }
   ],
   "source": [
    "# This is a code cell\n",
    "print(\"hello world\")  #print character string\n",
    "\n",
    "2+4+6*9 #calculate\n",
    "\n",
    "my_data<-data.frame(participant = c(1,2,3,4,5),absences = c(7,0,5,2,4), gpa = c(2.4,4,3,3.5,3)) #create dataset\n",
    "my_data #print dataset\n",
    "\n",
    "plot(my_data$absences, my_data$gpa) #plot data"
   ]
  },
  {
   "cell_type": "markdown",
   "metadata": {},
   "source": [
    "You can specify which kernel the cell will run when you first create the notebook (R, Python, etc.). These cells are running R. \n",
    "\n",
    "You can also interrupt, restart, shutdown, or change the kernel using the kernel tab. "
   ]
  },
  {
   "cell_type": "raw",
   "metadata": {},
   "source": [
    "This is a raw cell. We don't typically need this type of cell. It's used to write html code or specify metadata. "
   ]
  },
  {
   "cell_type": "markdown",
   "metadata": {},
   "source": [
    "### Extensions\n",
    "JupyterLab is an extensible environment, meaning you can use extensions to customize or enhance any part of JupyterLab. \n",
    "\n",
    "The easiest way to enable and search through extensions is by adding the extension manager.\n",
    "![alt text](https://github.com/eauer22/SIOP-2019-Master-Tutorial-Creating-Reproducible-and-Interactive-Analyses/blob/master/screenshots/extensionprocess.png?raw=true) \n",
    "You should see a puzzle option in the left menu and you can add extension from there. "
   ]
  },
  {
   "cell_type": "markdown",
   "metadata": {},
   "source": [
    "![alt text](https://github.com/eauer22/SIOP-2019-Master-Tutorial-Creating-Reproducible-and-Interactive-Analyses/blob/master/screenshots/extensions.PNG?raw=true)"
   ]
  },
  {
   "cell_type": "markdown",
   "metadata": {},
   "source": [
    "There are a ton of extensions available. You can see the full list and documentation here: https://www.npmjs.com/search?q=keywords%3Ajupyterlab-extension&ranking=popularity\n",
    "\n",
    "Some popular ones include git (version control), GitHub (can access GitHub repositories), table of contents, different themes/texts, even a spell checker. There's currently a variable inspector available for python users that allows you to inspect environment variables just like an R Studio environment (hopefully it will be available for the R kernel soon!).\n",
    "\n",
    "Most of these extensions are not created by project Jupyter so it's important to read documentation to assess the quality, purpose, and safety of the extension. "
   ]
  },
  {
   "cell_type": "markdown",
   "metadata": {},
   "source": [
    "### Sharing and Converting Notebooks\n",
    "Now that we can navigate around jupyter lab, create cells, and add extensions, what can we do with this document? "
   ]
  },
  {
   "cell_type": "markdown",
   "metadata": {},
   "source": [
    ".ipynb is the file extension name for the Jupyter Notebook. With this file you can:\n",
    "* add this file to a GitHub repo \n",
    "* render a static version using Jupyter's nbviewer (https://nbviewer.jupyter.org/)\n",
    "* render an interactive version using Binder (we'll see that next)"
   ]
  },
  {
   "cell_type": "markdown",
   "metadata": {},
   "source": [
    "You can also export this notebook in a number of ways:\n"
   ]
  },
  {
   "cell_type": "markdown",
   "metadata": {},
   "source": [
    "![alt text](https://github.com/eauer22/SIOP-2019-Master-Tutorial-Creating-Reproducible-and-Interactive-Analyses/blob/master/screenshots/fileexport.png?raw=true)"
   ]
  },
  {
   "cell_type": "markdown",
   "metadata": {},
   "source": [
    "**Export options:**\n",
    "\n",
    "![alt text](https://github.com/eauer22/SIOP-2019-Master-Tutorial-Creating-Reproducible-and-Interactive-Analyses/blob/master/screenshots/exportoptions.png?raw=true)"
   ]
  },
  {
   "cell_type": "markdown",
   "metadata": {},
   "source": [
    "## **Part 2:** A Brief Intro Binder\n"
   ]
  },
  {
   "cell_type": "markdown",
   "metadata": {},
   "source": [
    "This process will depend on your software requirements so we'll cover some of the common approaches when using R. \n",
    "\n",
    "If you have questions, there are many available resources (aside from google!):\n",
    "\n",
    "* Binder documentation website:\n",
    "https://mybinder.readthedocs.io/en/latest/\n",
    "\n",
    "* Sample Binders:\n",
    "https://github.com/binder-examples/\n",
    "\n",
    "* Conference paper:\n",
    "Jupyter, P., Bussonnier, M., Forde, J., Freeman, J., Granger, B., Head, T., ... & Pacer, M. (2018). Binder 2.0-Reproducible, interactive, sharable environments for science at scale. In Proceedings of the 17th Python in Science Conference, SciPy.\n",
    "http://conference.scipy.org/proceedings/scipy2018/pdfs/project_jupyter.pdf"
   ]
  },
  {
   "cell_type": "markdown",
   "metadata": {},
   "source": [
    "### Building a Binder\n",
    "First, we'll need to prepare to create a Binder. We'll be using mybinder.org.\n",
    "\n",
    "You’ll need a public code repository (e.g., GitHub) that contains:\n",
    "\n",
    "![alt text](https://github.com/eauer22/SIOP-2019-Master-Tutorial-Creating-Reproducible-and-Interactive-Analyses/blob/master/screenshots/bindercomponents.png?raw=true)\n",
    "_Note: The repository should not contain personal or sensitive information (such as passwords) or private data_\n"
   ]
  },
  {
   "cell_type": "markdown",
   "metadata": {},
   "source": [
    "We just created the notebook that we want to run interactively using Binder so we'll move on to configuration files.\n",
    "\n",
    "For R users, you'll need to add two configuration files to your repository. \n",
    "1. runtime.txt\n",
    "2. install.R\n",
    "\n",
    "runtime.txt tells the binder to include R in the dockerfile. The date specifies the version for both R and all libraries (a snapshot of CRAN using MRAN will be used for installing libraries). This will limit any versioning issues. \n",
    "\n",
    "Here's what the runtime.txt file might look like:"
   ]
  },
  {
   "cell_type": "markdown",
   "metadata": {},
   "source": [
    "![alt text](https://github.com/eauer22/SIOP-2019-Master-Tutorial-Creating-Reproducible-and-Interactive-Analyses/blob/master/screenshots/runtimepicture.png?raw=true)\n"
   ]
  },
  {
   "cell_type": "markdown",
   "metadata": {},
   "source": [
    "The install.R file will be where you specify which R libraries need downloading. If you were using python, you would create a requirements.txt file.\n",
    "\n",
    "Here's what an install.R file might look like:"
   ]
  },
  {
   "cell_type": "markdown",
   "metadata": {},
   "source": [
    "![alt text](https://github.com/eauer22/SIOP-2019-Master-Tutorial-Creating-Reproducible-and-Interactive-Analyses/blob/master/screenshots/runtimepicture2.png?raw=true)\n"
   ]
  },
  {
   "cell_type": "markdown",
   "metadata": {},
   "source": [
    "You can add these files to your local directory or directly in GitHub. "
   ]
  },
  {
   "cell_type": "markdown",
   "metadata": {},
   "source": [
    "Last, we'll probably need to get data into the binder. \n",
    "* All data must be public\n",
    "* Small (10MB or less): add directly to repository & build as usual\n",
    "* Medium ( < 10 GB): add to repository and use a postBuild file or a start configuration file\n",
    "* Large: possible, but avoid & consider alternatives\n"
   ]
  },
  {
   "cell_type": "markdown",
   "metadata": {},
   "source": [
    "Once our repository is all set up, we're ready to build the binder. You'll need to add a link from your GitHub repository to the mybinder.org website. It may take a while to build depending on the complexity of your repository. The more dependencies, the longer it will take. "
   ]
  },
  {
   "cell_type": "markdown",
   "metadata": {},
   "source": [
    "\n",
    "![alt text](https://github.com/eauer22/SIOP-2019-Master-Tutorial-Creating-Reproducible-and-Interactive-Analyses/blob/master/screenshots/build%20binder.png?raw=true)"
   ]
  },
  {
   "cell_type": "markdown",
   "metadata": {},
   "source": [
    "### Sharing a binder"
   ]
  },
  {
   "cell_type": "markdown",
   "metadata": {},
   "source": [
    "**Links:**\n",
    "\n",
    "* Default repository directory (/master): https://mybinder.org/v2/gh/eauer22/SIOP-2019-Master-Tutorial-Creating-Reproducible-and-Interactive-Analyses.git/master\n",
    "\n",
    "* Specified file path(/master?filepath=FILENAME): https://mybinder.org/v2/gh/eauer22/SIOP-2019-Master-Tutorial-Creating-Reproducible-and-Interactive-Analyses.git/master?filepath=Demo_pt1.ipynb\n",
    "\n",
    "* JupyterLab(/master?urlpath=lab/): https://mybinder.org/v2/gh/eauer22/SIOP-2019-Master-Tutorial-Creating-Reproducible-and-Interactive-Analyses.git/master?urlpath=lab/\n",
    "\n",
    "* RStudio(/master?urlpath=rstudio/): \n",
    "https://mybinder.org/v2/gh/eauer22/SIOP-2019-Master-Tutorial-Creating-Reproducible-and-Interactive-Analyses.git/master?urlpath=rstudio/\n",
    "\n",
    "**Binder Buttons:** \n",
    "\n",
    "[![Binder](https://mybinder.org/badge_logo.svg)](https://mybinder.org/v2/gh/eauer22/SIOP-2019-Master-Tutorial-Creating-Reproducible-and-Interactive-Analyses.git/master)\n",
    "\n",
    "You can alter the binder button path the same way as the html link paths. \n",
    "\n",
    "You can also alter the binder button itself\n",
    "[![badge](https://img.shields.io/badge/SIOP-Tutorial-F5A252.svg?logo=data:image/png;base64,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)](https://mybinder.org/v2/gh/eauer22/SIOP-2019-Master-Tutorial-Creating-Reproducible-and-Interactive-Analyses.git/master)\n"
   ]
  },
  {
   "cell_type": "markdown",
   "metadata": {},
   "source": [
    "Advance Binder Use Resources:\n",
    "* Saving a JupyterLab workspace: https://github.com/ian-r-rose/binder-workspace-demo/\n",
    "* Tracking Binder traffic: https://mybinder.readthedocs.io/en/latest/howto/repo_data.html\n",
    "* Using a Dockerfile in Binder: https://mybinder.readthedocs.io/en/latest/tutorials/dockerfile.html"
   ]
  }
 ],
 "metadata": {
  "kernelspec": {
   "display_name": "R",
   "language": "R",
   "name": "ir"
  },
  "language_info": {
   "codemirror_mode": "r",
   "file_extension": ".r",
   "mimetype": "text/x-r-source",
   "name": "R",
   "pygments_lexer": "r",
   "version": "3.5.1"
  }
 },
 "nbformat": 4,
 "nbformat_minor": 2
}
