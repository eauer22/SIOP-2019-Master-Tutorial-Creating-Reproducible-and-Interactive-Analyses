{
 "cells": [
  {
   "cell_type": "markdown",
   "metadata": {},
   "source": [
    "**This is a Jupyter Notebook!**\n",
    "\n",
    "In this notebook you can document data cleaning and analyses with narrative and render output, creating \"literate\" code. \n",
    "\n"
   ]
  },
  {
   "cell_type": "markdown",
   "metadata": {},
   "source": [
    "Let's first load some R packages"
   ]
  },
  {
   "cell_type": "code",
   "execution_count": 68,
   "metadata": {},
   "outputs": [],
   "source": [
    "library(ggplot2)\n",
    "library(psych)"
   ]
  },
  {
   "cell_type": "markdown",
   "metadata": {},
   "source": [
    "We'll use some existing data from the R Psych package."
   ]
  },
  {
   "cell_type": "code",
   "execution_count": 69,
   "metadata": {},
   "outputs": [
    {
     "data": {
      "text/html": [
       "<table>\n",
       "<thead><tr><th></th><th scope=col>A1</th><th scope=col>A2</th><th scope=col>A3</th><th scope=col>A4</th><th scope=col>A5</th><th scope=col>C1</th><th scope=col>C2</th><th scope=col>C3</th><th scope=col>C4</th><th scope=col>C5</th><th scope=col>...</th><th scope=col>N4</th><th scope=col>N5</th><th scope=col>O1</th><th scope=col>O2</th><th scope=col>O3</th><th scope=col>O4</th><th scope=col>O5</th><th scope=col>gender</th><th scope=col>education</th><th scope=col>age</th></tr></thead>\n",
       "<tbody>\n",
       "\t<tr><th scope=row>61617</th><td>2  </td><td>4  </td><td>3  </td><td>4  </td><td>4  </td><td>2  </td><td>3  </td><td>3  </td><td>4  </td><td>4  </td><td>...</td><td>2  </td><td>3  </td><td>3  </td><td>6  </td><td>3  </td><td>4  </td><td>3  </td><td>1  </td><td>NA </td><td>16 </td></tr>\n",
       "\t<tr><th scope=row>61618</th><td>2  </td><td>4  </td><td>5  </td><td>2  </td><td>5  </td><td>5  </td><td>4  </td><td>4  </td><td>3  </td><td>4  </td><td>...</td><td>5  </td><td>5  </td><td>4  </td><td>2  </td><td>4  </td><td>3  </td><td>3  </td><td>2  </td><td>NA </td><td>18 </td></tr>\n",
       "\t<tr><th scope=row>61620</th><td>5  </td><td>4  </td><td>5  </td><td>4  </td><td>4  </td><td>4  </td><td>5  </td><td>4  </td><td>2  </td><td>5  </td><td>...</td><td>2  </td><td>3  </td><td>4  </td><td>2  </td><td>5  </td><td>5  </td><td>2  </td><td>2  </td><td>NA </td><td>17 </td></tr>\n",
       "\t<tr><th scope=row>61621</th><td>4  </td><td>4  </td><td>6  </td><td>5  </td><td>5  </td><td>4  </td><td>4  </td><td>3  </td><td>5  </td><td>5  </td><td>...</td><td>4  </td><td>1  </td><td>3  </td><td>3  </td><td>4  </td><td>3  </td><td>5  </td><td>2  </td><td>NA </td><td>17 </td></tr>\n",
       "\t<tr><th scope=row>61622</th><td>2  </td><td>3  </td><td>3  </td><td>4  </td><td>5  </td><td>4  </td><td>4  </td><td>5  </td><td>3  </td><td>2  </td><td>...</td><td>4  </td><td>3  </td><td>3  </td><td>3  </td><td>4  </td><td>3  </td><td>3  </td><td>1  </td><td>NA </td><td>17 </td></tr>\n",
       "\t<tr><th scope=row>61623</th><td>6  </td><td>6  </td><td>5  </td><td>6  </td><td>5  </td><td>6  </td><td>6  </td><td>6  </td><td>1  </td><td>3  </td><td>...</td><td>2  </td><td>3  </td><td>4  </td><td>3  </td><td>5  </td><td>6  </td><td>1  </td><td>2  </td><td> 3 </td><td>21 </td></tr>\n",
       "</tbody>\n",
       "</table>\n"
      ],
      "text/latex": [
       "\\begin{tabular}{r|llllllllllllllllllllllllllll}\n",
       "  & A1 & A2 & A3 & A4 & A5 & C1 & C2 & C3 & C4 & C5 & ... & N4 & N5 & O1 & O2 & O3 & O4 & O5 & gender & education & age\\\\\n",
       "\\hline\n",
       "\t61617 & 2   & 4   & 3   & 4   & 4   & 2   & 3   & 3   & 4   & 4   & ... & 2   & 3   & 3   & 6   & 3   & 4   & 3   & 1   & NA  & 16 \\\\\n",
       "\t61618 & 2   & 4   & 5   & 2   & 5   & 5   & 4   & 4   & 3   & 4   & ... & 5   & 5   & 4   & 2   & 4   & 3   & 3   & 2   & NA  & 18 \\\\\n",
       "\t61620 & 5   & 4   & 5   & 4   & 4   & 4   & 5   & 4   & 2   & 5   & ... & 2   & 3   & 4   & 2   & 5   & 5   & 2   & 2   & NA  & 17 \\\\\n",
       "\t61621 & 4   & 4   & 6   & 5   & 5   & 4   & 4   & 3   & 5   & 5   & ... & 4   & 1   & 3   & 3   & 4   & 3   & 5   & 2   & NA  & 17 \\\\\n",
       "\t61622 & 2   & 3   & 3   & 4   & 5   & 4   & 4   & 5   & 3   & 2   & ... & 4   & 3   & 3   & 3   & 4   & 3   & 3   & 1   & NA  & 17 \\\\\n",
       "\t61623 & 6   & 6   & 5   & 6   & 5   & 6   & 6   & 6   & 1   & 3   & ... & 2   & 3   & 4   & 3   & 5   & 6   & 1   & 2   &  3  & 21 \\\\\n",
       "\\end{tabular}\n"
      ],
      "text/markdown": [
       "\n",
       "| <!--/--> | A1 | A2 | A3 | A4 | A5 | C1 | C2 | C3 | C4 | C5 | ... | N4 | N5 | O1 | O2 | O3 | O4 | O5 | gender | education | age |\n",
       "|---|---|---|---|---|---|---|---|---|---|---|---|---|---|---|---|---|---|---|---|---|---|\n",
       "| 61617 | 2   | 4   | 3   | 4   | 4   | 2   | 3   | 3   | 4   | 4   | ... | 2   | 3   | 3   | 6   | 3   | 4   | 3   | 1   | NA  | 16  |\n",
       "| 61618 | 2   | 4   | 5   | 2   | 5   | 5   | 4   | 4   | 3   | 4   | ... | 5   | 5   | 4   | 2   | 4   | 3   | 3   | 2   | NA  | 18  |\n",
       "| 61620 | 5   | 4   | 5   | 4   | 4   | 4   | 5   | 4   | 2   | 5   | ... | 2   | 3   | 4   | 2   | 5   | 5   | 2   | 2   | NA  | 17  |\n",
       "| 61621 | 4   | 4   | 6   | 5   | 5   | 4   | 4   | 3   | 5   | 5   | ... | 4   | 1   | 3   | 3   | 4   | 3   | 5   | 2   | NA  | 17  |\n",
       "| 61622 | 2   | 3   | 3   | 4   | 5   | 4   | 4   | 5   | 3   | 2   | ... | 4   | 3   | 3   | 3   | 4   | 3   | 3   | 1   | NA  | 17  |\n",
       "| 61623 | 6   | 6   | 5   | 6   | 5   | 6   | 6   | 6   | 1   | 3   | ... | 2   | 3   | 4   | 3   | 5   | 6   | 1   | 2   |  3  | 21  |\n",
       "\n"
      ],
      "text/plain": [
       "      A1 A2 A3 A4 A5 C1 C2 C3 C4 C5 ... N4 N5 O1 O2 O3 O4 O5 gender education\n",
       "61617 2  4  3  4  4  2  3  3  4  4  ... 2  3  3  6  3  4  3  1      NA       \n",
       "61618 2  4  5  2  5  5  4  4  3  4  ... 5  5  4  2  4  3  3  2      NA       \n",
       "61620 5  4  5  4  4  4  5  4  2  5  ... 2  3  4  2  5  5  2  2      NA       \n",
       "61621 4  4  6  5  5  4  4  3  5  5  ... 4  1  3  3  4  3  5  2      NA       \n",
       "61622 2  3  3  4  5  4  4  5  3  2  ... 4  3  3  3  4  3  3  1      NA       \n",
       "61623 6  6  5  6  5  6  6  6  1  3  ... 2  3  4  3  5  6  1  2       3       \n",
       "      age\n",
       "61617 16 \n",
       "61618 18 \n",
       "61620 17 \n",
       "61621 17 \n",
       "61622 17 \n",
       "61623 21 "
      ]
     },
     "metadata": {},
     "output_type": "display_data"
    }
   ],
   "source": [
    "bfi_data<-bfi\n",
    "head(bfi_data)"
   ]
  },
  {
   "cell_type": "markdown",
   "metadata": {},
   "source": [
    "Next, we'll need to create composite scores, again using the psych package"
   ]
  },
  {
   "cell_type": "code",
   "execution_count": 70,
   "metadata": {},
   "outputs": [
    {
     "data": {
      "text/html": [
       "<table>\n",
       "<thead><tr><th></th><th scope=col>agree</th><th scope=col>conscientious</th><th scope=col>extraversion</th><th scope=col>neuroticism</th><th scope=col>openness</th></tr></thead>\n",
       "<tbody>\n",
       "\t<tr><th scope=row>61617</th><td>4.0</td><td>2.8</td><td>3.8</td><td>2.8</td><td>3.0</td></tr>\n",
       "\t<tr><th scope=row>61618</th><td>4.2</td><td>4.0</td><td>5.0</td><td>3.8</td><td>4.0</td></tr>\n",
       "\t<tr><th scope=row>61620</th><td>3.8</td><td>4.0</td><td>4.2</td><td>3.6</td><td>4.8</td></tr>\n",
       "\t<tr><th scope=row>61621</th><td>4.6</td><td>3.0</td><td>3.6</td><td>2.8</td><td>3.2</td></tr>\n",
       "\t<tr><th scope=row>61622</th><td>4.0</td><td>4.4</td><td>4.8</td><td>3.2</td><td>3.6</td></tr>\n",
       "\t<tr><th scope=row>61623</th><td>4.6</td><td>5.6</td><td>5.6</td><td>3.0</td><td>5.0</td></tr>\n",
       "</tbody>\n",
       "</table>\n"
      ],
      "text/latex": [
       "\\begin{tabular}{r|lllll}\n",
       "  & agree & conscientious & extraversion & neuroticism & openness\\\\\n",
       "\\hline\n",
       "\t61617 & 4.0 & 2.8 & 3.8 & 2.8 & 3.0\\\\\n",
       "\t61618 & 4.2 & 4.0 & 5.0 & 3.8 & 4.0\\\\\n",
       "\t61620 & 3.8 & 4.0 & 4.2 & 3.6 & 4.8\\\\\n",
       "\t61621 & 4.6 & 3.0 & 3.6 & 2.8 & 3.2\\\\\n",
       "\t61622 & 4.0 & 4.4 & 4.8 & 3.2 & 3.6\\\\\n",
       "\t61623 & 4.6 & 5.6 & 5.6 & 3.0 & 5.0\\\\\n",
       "\\end{tabular}\n"
      ],
      "text/markdown": [
       "\n",
       "| <!--/--> | agree | conscientious | extraversion | neuroticism | openness |\n",
       "|---|---|---|---|---|---|\n",
       "| 61617 | 4.0 | 2.8 | 3.8 | 2.8 | 3.0 |\n",
       "| 61618 | 4.2 | 4.0 | 5.0 | 3.8 | 4.0 |\n",
       "| 61620 | 3.8 | 4.0 | 4.2 | 3.6 | 4.8 |\n",
       "| 61621 | 4.6 | 3.0 | 3.6 | 2.8 | 3.2 |\n",
       "| 61622 | 4.0 | 4.4 | 4.8 | 3.2 | 3.6 |\n",
       "| 61623 | 4.6 | 5.6 | 5.6 | 3.0 | 5.0 |\n",
       "\n"
      ],
      "text/plain": [
       "      agree conscientious extraversion neuroticism openness\n",
       "61617 4.0   2.8           3.8          2.8         3.0     \n",
       "61618 4.2   4.0           5.0          3.8         4.0     \n",
       "61620 3.8   4.0           4.2          3.6         4.8     \n",
       "61621 4.6   3.0           3.6          2.8         3.2     \n",
       "61622 4.0   4.4           4.8          3.2         3.6     \n",
       "61623 4.6   5.6           5.6          3.0         5.0     "
      ]
     },
     "metadata": {},
     "output_type": "display_data"
    }
   ],
   "source": [
    "keys.list <-\n",
    "  list(agree=c(\"-A1\",\"A2\",\"A3\",\"A4\",\"A5\"),conscientious=c(\"C1\",\"C2\",\"C3\",\"-C4\",\"-C5\"),\n",
    "extraversion=c(\"-E1\",\"-E2\",\"E3\",\"E4\",\"E5\"),neuroticism=c(\"N1\",\"N2\",\"N3\",\"N4\",\"N5\"),\n",
    "openness = c(\"O1\",\"-O2\",\"O3\",\"O4\",\"-O5\")) \n",
    "\n",
    "scores <- scoreItems(keys.list,bfi_data,min=1,max=6) #specify the minimum and maximum values\n",
    "\n",
    "head(scores$scores)\n"
   ]
  },
  {
   "cell_type": "markdown",
   "metadata": {},
   "source": [
    "We can also calculate alpha for each scale"
   ]
  },
  {
   "cell_type": "code",
   "execution_count": 71,
   "metadata": {},
   "outputs": [
    {
     "data": {
      "text/html": [
       "<table>\n",
       "<thead><tr><th></th><th scope=col>agree</th><th scope=col>conscientious</th><th scope=col>extraversion</th><th scope=col>neuroticism</th><th scope=col>openness</th></tr></thead>\n",
       "<tbody>\n",
       "\t<tr><th scope=row>alpha</th><td>0.7012375</td><td>0.7246871</td><td>0.7596948</td><td>0.8117752</td><td>0.5967716</td></tr>\n",
       "</tbody>\n",
       "</table>\n"
      ],
      "text/latex": [
       "\\begin{tabular}{r|lllll}\n",
       "  & agree & conscientious & extraversion & neuroticism & openness\\\\\n",
       "\\hline\n",
       "\talpha & 0.7012375 & 0.7246871 & 0.7596948 & 0.8117752 & 0.5967716\\\\\n",
       "\\end{tabular}\n"
      ],
      "text/markdown": [
       "\n",
       "| <!--/--> | agree | conscientious | extraversion | neuroticism | openness |\n",
       "|---|---|---|---|---|---|\n",
       "| alpha | 0.7012375 | 0.7246871 | 0.7596948 | 0.8117752 | 0.5967716 |\n",
       "\n"
      ],
      "text/plain": [
       "      agree     conscientious extraversion neuroticism openness \n",
       "alpha 0.7012375 0.7246871     0.7596948    0.8117752   0.5967716"
      ]
     },
     "metadata": {},
     "output_type": "display_data"
    }
   ],
   "source": [
    "scores$alpha"
   ]
  },
  {
   "cell_type": "markdown",
   "metadata": {},
   "source": [
    "Now let's add these scores to our original dataset"
   ]
  },
  {
   "cell_type": "code",
   "execution_count": 72,
   "metadata": {},
   "outputs": [
    {
     "data": {
      "text/html": [
       "<table>\n",
       "<thead><tr><th></th><th scope=col>A1</th><th scope=col>A2</th><th scope=col>A3</th><th scope=col>A4</th><th scope=col>A5</th><th scope=col>C1</th><th scope=col>C2</th><th scope=col>C3</th><th scope=col>C4</th><th scope=col>C5</th><th scope=col>...</th><th scope=col>O4</th><th scope=col>O5</th><th scope=col>gender</th><th scope=col>education</th><th scope=col>age</th><th scope=col>agree</th><th scope=col>conscientious</th><th scope=col>extraversion</th><th scope=col>neuroticism</th><th scope=col>openness</th></tr></thead>\n",
       "<tbody>\n",
       "\t<tr><th scope=row>61617</th><td>2  </td><td>4  </td><td>3  </td><td>4  </td><td>4  </td><td>2  </td><td>3  </td><td>3  </td><td>4  </td><td>4  </td><td>...</td><td>4  </td><td>3  </td><td>1  </td><td>NA </td><td>16 </td><td>4.0</td><td>2.8</td><td>3.8</td><td>2.8</td><td>3.0</td></tr>\n",
       "\t<tr><th scope=row>61618</th><td>2  </td><td>4  </td><td>5  </td><td>2  </td><td>5  </td><td>5  </td><td>4  </td><td>4  </td><td>3  </td><td>4  </td><td>...</td><td>3  </td><td>3  </td><td>2  </td><td>NA </td><td>18 </td><td>4.2</td><td>4.0</td><td>5.0</td><td>3.8</td><td>4.0</td></tr>\n",
       "\t<tr><th scope=row>61620</th><td>5  </td><td>4  </td><td>5  </td><td>4  </td><td>4  </td><td>4  </td><td>5  </td><td>4  </td><td>2  </td><td>5  </td><td>...</td><td>5  </td><td>2  </td><td>2  </td><td>NA </td><td>17 </td><td>3.8</td><td>4.0</td><td>4.2</td><td>3.6</td><td>4.8</td></tr>\n",
       "\t<tr><th scope=row>61621</th><td>4  </td><td>4  </td><td>6  </td><td>5  </td><td>5  </td><td>4  </td><td>4  </td><td>3  </td><td>5  </td><td>5  </td><td>...</td><td>3  </td><td>5  </td><td>2  </td><td>NA </td><td>17 </td><td>4.6</td><td>3.0</td><td>3.6</td><td>2.8</td><td>3.2</td></tr>\n",
       "\t<tr><th scope=row>61622</th><td>2  </td><td>3  </td><td>3  </td><td>4  </td><td>5  </td><td>4  </td><td>4  </td><td>5  </td><td>3  </td><td>2  </td><td>...</td><td>3  </td><td>3  </td><td>1  </td><td>NA </td><td>17 </td><td>4.0</td><td>4.4</td><td>4.8</td><td>3.2</td><td>3.6</td></tr>\n",
       "\t<tr><th scope=row>61623</th><td>6  </td><td>6  </td><td>5  </td><td>6  </td><td>5  </td><td>6  </td><td>6  </td><td>6  </td><td>1  </td><td>3  </td><td>...</td><td>6  </td><td>1  </td><td>2  </td><td> 3 </td><td>21 </td><td>4.6</td><td>5.6</td><td>5.6</td><td>3.0</td><td>5.0</td></tr>\n",
       "</tbody>\n",
       "</table>\n"
      ],
      "text/latex": [
       "\\begin{tabular}{r|lllllllllllllllllllllllllllllllll}\n",
       "  & A1 & A2 & A3 & A4 & A5 & C1 & C2 & C3 & C4 & C5 & ... & O4 & O5 & gender & education & age & agree & conscientious & extraversion & neuroticism & openness\\\\\n",
       "\\hline\n",
       "\t61617 & 2   & 4   & 3   & 4   & 4   & 2   & 3   & 3   & 4   & 4   & ... & 4   & 3   & 1   & NA  & 16  & 4.0 & 2.8 & 3.8 & 2.8 & 3.0\\\\\n",
       "\t61618 & 2   & 4   & 5   & 2   & 5   & 5   & 4   & 4   & 3   & 4   & ... & 3   & 3   & 2   & NA  & 18  & 4.2 & 4.0 & 5.0 & 3.8 & 4.0\\\\\n",
       "\t61620 & 5   & 4   & 5   & 4   & 4   & 4   & 5   & 4   & 2   & 5   & ... & 5   & 2   & 2   & NA  & 17  & 3.8 & 4.0 & 4.2 & 3.6 & 4.8\\\\\n",
       "\t61621 & 4   & 4   & 6   & 5   & 5   & 4   & 4   & 3   & 5   & 5   & ... & 3   & 5   & 2   & NA  & 17  & 4.6 & 3.0 & 3.6 & 2.8 & 3.2\\\\\n",
       "\t61622 & 2   & 3   & 3   & 4   & 5   & 4   & 4   & 5   & 3   & 2   & ... & 3   & 3   & 1   & NA  & 17  & 4.0 & 4.4 & 4.8 & 3.2 & 3.6\\\\\n",
       "\t61623 & 6   & 6   & 5   & 6   & 5   & 6   & 6   & 6   & 1   & 3   & ... & 6   & 1   & 2   &  3  & 21  & 4.6 & 5.6 & 5.6 & 3.0 & 5.0\\\\\n",
       "\\end{tabular}\n"
      ],
      "text/markdown": [
       "\n",
       "| <!--/--> | A1 | A2 | A3 | A4 | A5 | C1 | C2 | C3 | C4 | C5 | ... | O4 | O5 | gender | education | age | agree | conscientious | extraversion | neuroticism | openness |\n",
       "|---|---|---|---|---|---|---|---|---|---|---|---|---|---|---|---|---|---|---|---|---|---|\n",
       "| 61617 | 2   | 4   | 3   | 4   | 4   | 2   | 3   | 3   | 4   | 4   | ... | 4   | 3   | 1   | NA  | 16  | 4.0 | 2.8 | 3.8 | 2.8 | 3.0 |\n",
       "| 61618 | 2   | 4   | 5   | 2   | 5   | 5   | 4   | 4   | 3   | 4   | ... | 3   | 3   | 2   | NA  | 18  | 4.2 | 4.0 | 5.0 | 3.8 | 4.0 |\n",
       "| 61620 | 5   | 4   | 5   | 4   | 4   | 4   | 5   | 4   | 2   | 5   | ... | 5   | 2   | 2   | NA  | 17  | 3.8 | 4.0 | 4.2 | 3.6 | 4.8 |\n",
       "| 61621 | 4   | 4   | 6   | 5   | 5   | 4   | 4   | 3   | 5   | 5   | ... | 3   | 5   | 2   | NA  | 17  | 4.6 | 3.0 | 3.6 | 2.8 | 3.2 |\n",
       "| 61622 | 2   | 3   | 3   | 4   | 5   | 4   | 4   | 5   | 3   | 2   | ... | 3   | 3   | 1   | NA  | 17  | 4.0 | 4.4 | 4.8 | 3.2 | 3.6 |\n",
       "| 61623 | 6   | 6   | 5   | 6   | 5   | 6   | 6   | 6   | 1   | 3   | ... | 6   | 1   | 2   |  3  | 21  | 4.6 | 5.6 | 5.6 | 3.0 | 5.0 |\n",
       "\n"
      ],
      "text/plain": [
       "      A1 A2 A3 A4 A5 C1 C2 C3 C4 C5 ... O4 O5 gender education age agree\n",
       "61617 2  4  3  4  4  2  3  3  4  4  ... 4  3  1      NA        16  4.0  \n",
       "61618 2  4  5  2  5  5  4  4  3  4  ... 3  3  2      NA        18  4.2  \n",
       "61620 5  4  5  4  4  4  5  4  2  5  ... 5  2  2      NA        17  3.8  \n",
       "61621 4  4  6  5  5  4  4  3  5  5  ... 3  5  2      NA        17  4.6  \n",
       "61622 2  3  3  4  5  4  4  5  3  2  ... 3  3  1      NA        17  4.0  \n",
       "61623 6  6  5  6  5  6  6  6  1  3  ... 6  1  2       3        21  4.6  \n",
       "      conscientious extraversion neuroticism openness\n",
       "61617 2.8           3.8          2.8         3.0     \n",
       "61618 4.0           5.0          3.8         4.0     \n",
       "61620 4.0           4.2          3.6         4.8     \n",
       "61621 3.0           3.6          2.8         3.2     \n",
       "61622 4.4           4.8          3.2         3.6     \n",
       "61623 5.6           5.6          3.0         5.0     "
      ]
     },
     "metadata": {},
     "output_type": "display_data"
    }
   ],
   "source": [
    "bfi_data <- cbind(bfi_data,as.data.frame(scores$scores))\n",
    "head(bfi_data)\n"
   ]
  },
  {
   "cell_type": "markdown",
   "metadata": {},
   "source": [
    "We can start to visualize some relationships amongst the variables"
   ]
  },
  {
   "cell_type": "code",
   "execution_count": 74,
   "metadata": {},
   "outputs": [
    {
     "data": {
      "image/png": "[encoded data removed]",
      "text/plain": [
       "plot without title"
      ]
     },
     "metadata": {},
     "output_type": "display_data"
    }
   ],
   "source": [
    "ggplot(aes(x=age, y=agree),data=bfi_data) +\n",
    "geom_point(aes(color=gender))+  # scatter plot\n",
    "  geom_smooth(method=\"lm\")"
   ]
  },
  {
   "cell_type": "code",
   "execution_count": null,
   "metadata": {},
   "outputs": [],
   "source": []
  },
  {
   "cell_type": "code",
   "execution_count": null,
   "metadata": {},
   "outputs": [],
   "source": []
  }
 ],
 "metadata": {
  "kernelspec": {
   "display_name": "R",
   "language": "R",
   "name": "ir"
  },
  "language_info": {
   "codemirror_mode": "r",
   "file_extension": ".r",
   "mimetype": "text/x-r-source",
   "name": "R",
   "pygments_lexer": "r",
   "version": "3.5.1"
  }
 },
 "nbformat": 4,
 "nbformat_minor": 2
}
